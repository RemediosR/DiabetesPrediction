{
 "cells": [
  {
   "cell_type": "markdown",
   "metadata": {},
   "source": [
    "# Aim:\n",
    "Create a machine learning model to the predict the patients most likely to have diabetes."
   ]
  },
  {
   "cell_type": "code",
   "execution_count": 1,
   "metadata": {},
   "outputs": [],
   "source": [
    "# Load diabetes diagnosis data into a Pandas dataframe\n",
    "\n",
    "import pandas as pd\n",
    "\n",
    "# load the training dataset\n",
    "df = pd.read_csv(r'C:\\Users\\Ryan\\JupyterNotebooks-Anaconda\\data\\diabetesdata.csv')"
   ]
  },
  {
   "cell_type": "code",
   "execution_count": 2,
   "metadata": {
    "scrolled": true
   },
   "outputs": [
    {
     "data": {
      "text/html": [
       "<div>\n",
       "<style scoped>\n",
       "    .dataframe tbody tr th:only-of-type {\n",
       "        vertical-align: middle;\n",
       "    }\n",
       "\n",
       "    .dataframe tbody tr th {\n",
       "        vertical-align: top;\n",
       "    }\n",
       "\n",
       "    .dataframe thead th {\n",
       "        text-align: right;\n",
       "    }\n",
       "</style>\n",
       "<table border=\"1\" class=\"dataframe\">\n",
       "  <thead>\n",
       "    <tr style=\"text-align: right;\">\n",
       "      <th></th>\n",
       "      <th>PatientID</th>\n",
       "      <th>Pregnancies</th>\n",
       "      <th>PlasmaGlucose</th>\n",
       "      <th>DiastolicBloodPressure</th>\n",
       "      <th>TricepsThickness</th>\n",
       "      <th>SerumInsulin</th>\n",
       "      <th>BMI</th>\n",
       "      <th>DiabetesPedigree</th>\n",
       "      <th>Age</th>\n",
       "      <th>Diabetic</th>\n",
       "    </tr>\n",
       "  </thead>\n",
       "  <tbody>\n",
       "    <tr>\n",
       "      <th>0</th>\n",
       "      <td>1354778</td>\n",
       "      <td>0</td>\n",
       "      <td>171</td>\n",
       "      <td>80</td>\n",
       "      <td>34</td>\n",
       "      <td>23</td>\n",
       "      <td>43.509726</td>\n",
       "      <td>1.213191</td>\n",
       "      <td>21</td>\n",
       "      <td>0</td>\n",
       "    </tr>\n",
       "    <tr>\n",
       "      <th>1</th>\n",
       "      <td>1147438</td>\n",
       "      <td>8</td>\n",
       "      <td>92</td>\n",
       "      <td>93</td>\n",
       "      <td>47</td>\n",
       "      <td>36</td>\n",
       "      <td>21.240576</td>\n",
       "      <td>0.158365</td>\n",
       "      <td>23</td>\n",
       "      <td>0</td>\n",
       "    </tr>\n",
       "    <tr>\n",
       "      <th>2</th>\n",
       "      <td>1640031</td>\n",
       "      <td>7</td>\n",
       "      <td>115</td>\n",
       "      <td>47</td>\n",
       "      <td>52</td>\n",
       "      <td>35</td>\n",
       "      <td>41.511523</td>\n",
       "      <td>0.079019</td>\n",
       "      <td>23</td>\n",
       "      <td>0</td>\n",
       "    </tr>\n",
       "    <tr>\n",
       "      <th>3</th>\n",
       "      <td>1883350</td>\n",
       "      <td>9</td>\n",
       "      <td>103</td>\n",
       "      <td>78</td>\n",
       "      <td>25</td>\n",
       "      <td>304</td>\n",
       "      <td>29.582192</td>\n",
       "      <td>1.282870</td>\n",
       "      <td>43</td>\n",
       "      <td>1</td>\n",
       "    </tr>\n",
       "    <tr>\n",
       "      <th>4</th>\n",
       "      <td>1424119</td>\n",
       "      <td>1</td>\n",
       "      <td>85</td>\n",
       "      <td>59</td>\n",
       "      <td>27</td>\n",
       "      <td>35</td>\n",
       "      <td>42.604536</td>\n",
       "      <td>0.549542</td>\n",
       "      <td>22</td>\n",
       "      <td>0</td>\n",
       "    </tr>\n",
       "    <tr>\n",
       "      <th>5</th>\n",
       "      <td>1619297</td>\n",
       "      <td>0</td>\n",
       "      <td>82</td>\n",
       "      <td>92</td>\n",
       "      <td>9</td>\n",
       "      <td>253</td>\n",
       "      <td>19.724160</td>\n",
       "      <td>0.103424</td>\n",
       "      <td>26</td>\n",
       "      <td>0</td>\n",
       "    </tr>\n",
       "    <tr>\n",
       "      <th>6</th>\n",
       "      <td>1660149</td>\n",
       "      <td>0</td>\n",
       "      <td>133</td>\n",
       "      <td>47</td>\n",
       "      <td>19</td>\n",
       "      <td>227</td>\n",
       "      <td>21.941357</td>\n",
       "      <td>0.174160</td>\n",
       "      <td>21</td>\n",
       "      <td>0</td>\n",
       "    </tr>\n",
       "    <tr>\n",
       "      <th>7</th>\n",
       "      <td>1458769</td>\n",
       "      <td>0</td>\n",
       "      <td>67</td>\n",
       "      <td>87</td>\n",
       "      <td>43</td>\n",
       "      <td>36</td>\n",
       "      <td>18.277723</td>\n",
       "      <td>0.236165</td>\n",
       "      <td>26</td>\n",
       "      <td>0</td>\n",
       "    </tr>\n",
       "    <tr>\n",
       "      <th>8</th>\n",
       "      <td>1201647</td>\n",
       "      <td>8</td>\n",
       "      <td>80</td>\n",
       "      <td>95</td>\n",
       "      <td>33</td>\n",
       "      <td>24</td>\n",
       "      <td>26.624929</td>\n",
       "      <td>0.443947</td>\n",
       "      <td>53</td>\n",
       "      <td>1</td>\n",
       "    </tr>\n",
       "    <tr>\n",
       "      <th>9</th>\n",
       "      <td>1403912</td>\n",
       "      <td>1</td>\n",
       "      <td>72</td>\n",
       "      <td>31</td>\n",
       "      <td>40</td>\n",
       "      <td>42</td>\n",
       "      <td>36.889576</td>\n",
       "      <td>0.103944</td>\n",
       "      <td>26</td>\n",
       "      <td>0</td>\n",
       "    </tr>\n",
       "  </tbody>\n",
       "</table>\n",
       "</div>"
      ],
      "text/plain": [
       "   PatientID  Pregnancies  PlasmaGlucose  DiastolicBloodPressure  \\\n",
       "0    1354778            0            171                      80   \n",
       "1    1147438            8             92                      93   \n",
       "2    1640031            7            115                      47   \n",
       "3    1883350            9            103                      78   \n",
       "4    1424119            1             85                      59   \n",
       "5    1619297            0             82                      92   \n",
       "6    1660149            0            133                      47   \n",
       "7    1458769            0             67                      87   \n",
       "8    1201647            8             80                      95   \n",
       "9    1403912            1             72                      31   \n",
       "\n",
       "   TricepsThickness  SerumInsulin        BMI  DiabetesPedigree  Age  Diabetic  \n",
       "0                34            23  43.509726          1.213191   21         0  \n",
       "1                47            36  21.240576          0.158365   23         0  \n",
       "2                52            35  41.511523          0.079019   23         0  \n",
       "3                25           304  29.582192          1.282870   43         1  \n",
       "4                27            35  42.604536          0.549542   22         0  \n",
       "5                 9           253  19.724160          0.103424   26         0  \n",
       "6                19           227  21.941357          0.174160   21         0  \n",
       "7                43            36  18.277723          0.236165   26         0  \n",
       "8                33            24  26.624929          0.443947   53         1  \n",
       "9                40            42  36.889576          0.103944   26         0  "
      ]
     },
     "execution_count": 2,
     "metadata": {},
     "output_type": "execute_result"
    }
   ],
   "source": [
    "df.head(10)"
   ]
  },
  {
   "cell_type": "markdown",
   "metadata": {},
   "source": [
    "Diagnostic data of patients who have been tested for diabetes (column 'Diabetic' is 0 for patients who tested negative, and 1 for patients who tested positive for diabetes)."
   ]
  },
  {
   "cell_type": "markdown",
   "metadata": {},
   "source": [
    "# Exploratory Data Aanlysis"
   ]
  },
  {
   "cell_type": "code",
   "execution_count": 3,
   "metadata": {},
   "outputs": [
    {
     "data": {
      "text/plain": [
       "(15000, 10)"
      ]
     },
     "execution_count": 3,
     "metadata": {},
     "output_type": "execute_result"
    }
   ],
   "source": [
    "# Number of patients:\n",
    "df.shape"
   ]
  },
  {
   "cell_type": "code",
   "execution_count": 4,
   "metadata": {},
   "outputs": [
    {
     "data": {
      "text/plain": [
       "PatientID                 0\n",
       "Pregnancies               0\n",
       "PlasmaGlucose             0\n",
       "DiastolicBloodPressure    0\n",
       "TricepsThickness          0\n",
       "SerumInsulin              0\n",
       "BMI                       0\n",
       "DiabetesPedigree          0\n",
       "Age                       0\n",
       "Diabetic                  0\n",
       "dtype: int64"
      ]
     },
     "execution_count": 4,
     "metadata": {},
     "output_type": "execute_result"
    }
   ],
   "source": [
    "# Idetify null or NaN values in the data:\n",
    "df.isnull().sum()"
   ]
  },
  {
   "cell_type": "code",
   "execution_count": 5,
   "metadata": {},
   "outputs": [],
   "source": [
    "# Basic statistical analysis\n",
    "\n",
    "from matplotlib import pyplot as plt"
   ]
  },
  {
   "cell_type": "code",
   "execution_count": 6,
   "metadata": {},
   "outputs": [
    {
     "name": "stdout",
     "output_type": "stream",
     "text": [
      "Pregnancy stats:\n",
      "Minimum:0.00\n",
      "Mean:3.22\n",
      "Median:2.00\n",
      "Mode:0.00\n",
      "Maximum:14.00\n",
      "\n"
     ]
    },
    {
     "data": {
      "image/png": "[encoded data removed]",
      "text/plain": [
       "<Figure size 360x288 with 2 Axes>"
      ]
     },
     "metadata": {
      "needs_background": "light"
     },
     "output_type": "display_data"
    }
   ],
   "source": [
    "# Get the variable to examine\n",
    "varX = df['Pregnancies']\n",
    "\n",
    "# figure and subplots:\n",
    "f, (ax1, ax2) = plt.subplots(2, 1, figsize = (5,4))\n",
    "\n",
    "ax1.hist(varX)\n",
    "ax1.set_title('Pregnancies distrubution')\n",
    "ax1.set_xlabel('Number of pregnancies')\n",
    "ax1.set_ylabel('Number of patients')\n",
    "\n",
    "ax2.boxplot(varX, vert=False)\n",
    "ax2.set_xlabel('Number of pregnancies')\n",
    "\n",
    "#meanPG = df['PlasmaGlucose'].mean()\n",
    "#print('Average Plasma Glucose: {:.2f} (A.U.)'.format(meanPG))\n",
    "\n",
    "\n",
    "# create a function:\n",
    "def show_distribution(varX):\n",
    "    \n",
    "# Show statistics\n",
    "    min_val = varX.min()\n",
    "    max_val = varX.max()\n",
    "    mean_val = varX.mean()\n",
    "    med_val = varX.median()\n",
    "    mod_val = varX.mode()[0]\n",
    "\n",
    "    print('Pregnancy stats:\\nMinimum:{:.2f}\\nMean:{:.2f}\\nMedian:{:.2f}\\nMode:{:.2f}\\nMaximum:{:.2f}\\n'.format(min_val,\n",
    "                                                                                            mean_val,\n",
    "                                                                                            med_val,\n",
    "                                                                                            mod_val,\n",
    "                                                                                            max_val))\n",
    "\n",
    "# Call the function\n",
    "show_distribution(varX)"
   ]
  },
  {
   "cell_type": "code",
   "execution_count": 7,
   "metadata": {
    "scrolled": true
   },
   "outputs": [
    {
     "name": "stdout",
     "output_type": "stream",
     "text": [
      "Plasma Glucose stats\n",
      "Minimum:44.00\n",
      "Mean:107.86\n",
      "Median:104.00\n",
      "Mode:97.00\n",
      "Maximum:192.00\n",
      "\n"
     ]
    },
    {
     "data": {
      "image/png": "[encoded data removed]",
      "text/plain": [
       "<Figure size 360x288 with 2 Axes>"
      ]
     },
     "metadata": {
      "needs_background": "light"
     },
     "output_type": "display_data"
    }
   ],
   "source": [
    "# Get the variable to examine\n",
    "varX = df['PlasmaGlucose']\n",
    "\n",
    "# figure and subplots:\n",
    "f, (ax1, ax2) = plt.subplots(2, 1, figsize = (5,4))\n",
    "\n",
    "ax1.hist(varX)\n",
    "ax1.set_title('Plasma Glucose distrubution')\n",
    "ax1.set_xlim(0, 200)\n",
    "ax1.set_xlabel('Plasma Glucose Level (A.U.)')\n",
    "ax1.set_ylabel('Number of patients')\n",
    "\n",
    "ax2.boxplot(varX, vert=False)\n",
    "ax2.set_xlim(0, 200)\n",
    "ax2.set_xlabel('Plasma Glucose Level (A.U.)')\n",
    "\n",
    "#meanPG = df['PlasmaGlucose'].mean()\n",
    "#print('Average Plasma Glucose: {:.2f} (A.U.)'.format(meanPG))\n",
    "\n",
    "\n",
    "# create a function:\n",
    "def show_distribution(varX):\n",
    "    \n",
    "# Show statistics\n",
    "    min_val = varX.min()\n",
    "    max_val = varX.max()\n",
    "    mean_val = varX.mean()\n",
    "    med_val = varX.median()\n",
    "    mod_val = varX.mode()[0]\n",
    "\n",
    "    print('Plasma Glucose stats\\nMinimum:{:.2f}\\nMean:{:.2f}\\nMedian:{:.2f}\\nMode:{:.2f}\\nMaximum:{:.2f}\\n'.format(min_val,\n",
    "                                                                                            mean_val,\n",
    "                                                                                            med_val,\n",
    "                                                                                            mod_val,\n",
    "                                                                                            max_val))\n",
    "\n",
    "# Call the function\n",
    "show_distribution(varX)"
   ]
  },
  {
   "cell_type": "code",
   "execution_count": 8,
   "metadata": {},
   "outputs": [
    {
     "name": "stdout",
     "output_type": "stream",
     "text": [
      "Minimum:24.00\n",
      "Mean:71.22\n",
      "Median:72.00\n",
      "Mode:81.00\n",
      "Maximum:117.00\n",
      "\n"
     ]
    },
    {
     "data": {
      "image/png": "[encoded data removed]",
      "text/plain": [
       "<Figure size 360x288 with 2 Axes>"
      ]
     },
     "metadata": {
      "needs_background": "light"
     },
     "output_type": "display_data"
    }
   ],
   "source": [
    "# Get the variable to examine\n",
    "varX = df['DiastolicBloodPressure']\n",
    "\n",
    "# figure and subplots:\n",
    "f, (ax1, ax2) = plt.subplots(2, 1, figsize = (5,4))\n",
    "\n",
    "#ax1.boxplot(['PlasmaGlucose'], 'Diabetic')\n",
    "\n",
    "ax1.hist(varX)\n",
    "ax1.set_title('Diastolic Blood Pressure')\n",
    "ax1.set_xlim(0, 125)\n",
    "ax1.set_xlabel('blood pressure (mmHg)')\n",
    "ax1.set_ylabel('Number of patients')\n",
    "\n",
    "ax2.boxplot(varX, vert=False)\n",
    "ax2.set_xlim(0, 125)\n",
    "ax2.set_xlabel('blood pressure (mmHg)')\n",
    "\n",
    "#meanPG = df['PlasmaGlucose'].mean()\n",
    "#print('Average Plasma Glucose: {:.2f} (A.U.)'.format(meanPG))\n",
    "\n",
    "\n",
    "# create a function:\n",
    "def show_distribution(varX):\n",
    "    \n",
    "# Show statistics\n",
    "    min_val = varX.min()\n",
    "    max_val = varX.max()\n",
    "    mean_val = varX.mean()\n",
    "    med_val = varX.median()\n",
    "    mod_val = varX.mode()[0]\n",
    "\n",
    "    print('Minimum:{:.2f}\\nMean:{:.2f}\\nMedian:{:.2f}\\nMode:{:.2f}\\nMaximum:{:.2f}\\n'.format(min_val,\n",
    "                                                                                            mean_val,\n",
    "                                                                                            med_val,\n",
    "                                                                                            mod_val,\n",
    "                                                                                            max_val))\n",
    "\n",
    "# Call the function\n",
    "show_distribution(varX)"
   ]
  },
  {
   "cell_type": "code",
   "execution_count": 9,
   "metadata": {
    "scrolled": true
   },
   "outputs": [
    {
     "name": "stdout",
     "output_type": "stream",
     "text": [
      "Minimum:7.00\n",
      "Mean:28.81\n",
      "Median:31.00\n",
      "Mode:11.00\n",
      "Maximum:93.00\n",
      "\n"
     ]
    },
    {
     "data": {
      "image/png": "[encoded data removed]",
      "text/plain": [
       "<Figure size 360x288 with 2 Axes>"
      ]
     },
     "metadata": {
      "needs_background": "light"
     },
     "output_type": "display_data"
    }
   ],
   "source": [
    "# Get the variable to examine\n",
    "varX = df['TricepsThickness']\n",
    "\n",
    "# figure and subplots:\n",
    "f, (ax1, ax2) = plt.subplots(2, 1, figsize = (5,4))\n",
    "\n",
    "#ax1.boxplot(['PlasmaGlucose'], 'Diabetic')\n",
    "\n",
    "ax1.hist(varX)\n",
    "ax1.set_title('Triceps Thickness')\n",
    "ax1.set_xlim(0, 100)\n",
    "ax1.set_xlabel('skinfold (mm)')\n",
    "ax1.set_ylabel('Number of patients')\n",
    "\n",
    "ax2.boxplot(varX, vert=False)\n",
    "ax2.set_xlim(0, 100)\n",
    "ax2.set_xlabel('skinfold (mm)')\n",
    "\n",
    "#meanPG = df['PlasmaGlucose'].mean()\n",
    "#print('Average Plasma Glucose: {:.2f} (A.U.)'.format(meanPG))\n",
    "\n",
    "\n",
    "# create a function:\n",
    "def show_distribution(varX):\n",
    "    \n",
    "# Show statistics\n",
    "    min_val = varX.min()\n",
    "    max_val = varX.max()\n",
    "    mean_val = varX.mean()\n",
    "    med_val = varX.median()\n",
    "    mod_val = varX.mode()[0]\n",
    "\n",
    "    print('Minimum:{:.2f}\\nMean:{:.2f}\\nMedian:{:.2f}\\nMode:{:.2f}\\nMaximum:{:.2f}\\n'.format(min_val,\n",
    "                                                                                            mean_val,\n",
    "                                                                                            med_val,\n",
    "                                                                                            mod_val,\n",
    "                                                                                            max_val))\n",
    "\n",
    "# Call the function\n",
    "show_distribution(varX)"
   ]
  },
  {
   "cell_type": "code",
   "execution_count": 10,
   "metadata": {
    "scrolled": true
   },
   "outputs": [
    {
     "name": "stdout",
     "output_type": "stream",
     "text": [
      "Minimum:14.00\n",
      "Mean:137.85\n",
      "Median:83.00\n",
      "Mode:27.00\n",
      "Maximum:799.00\n",
      "\n"
     ]
    },
    {
     "data": {
      "image/png": "[encoded data removed]",
      "text/plain": [
       "<Figure size 360x288 with 2 Axes>"
      ]
     },
     "metadata": {
      "needs_background": "light"
     },
     "output_type": "display_data"
    }
   ],
   "source": [
    "# Get the variable to examine\n",
    "varX = df['SerumInsulin']\n",
    "\n",
    "# figure and subplots:\n",
    "f, (ax1, ax2) = plt.subplots(2, 1, figsize = (5,4))\n",
    "\n",
    "#ax1.boxplot(['PlasmaGlucose'], 'Diabetic')\n",
    "\n",
    "ax1.hist(varX)\n",
    "ax1.set_title('Serum Insulin distrubution')\n",
    "#ax1.set_xlim(0, 200)\n",
    "ax1.set_xlabel('Serum Insulin Level (A.U.)')\n",
    "ax1.set_ylabel('Number of patients')\n",
    "\n",
    "ax2.boxplot(varX, vert=False)\n",
    "#ax2.set_xlim(0, 200)\n",
    "ax2.set_xlabel('Serum Insulin Level (A.U.)')\n",
    "\n",
    "#meanPG = df['PlasmaGlucose'].mean()\n",
    "#print('Average Plasma Glucose: {:.2f} (A.U.)'.format(meanPG))\n",
    "\n",
    "\n",
    "# create a function:\n",
    "def show_distribution(varX):\n",
    "    \n",
    "# Show statistics\n",
    "    min_val = varX.min()\n",
    "    max_val = varX.max()\n",
    "    mean_val = varX.mean()\n",
    "    med_val = varX.median()\n",
    "    mod_val = varX.mode()[0]\n",
    "\n",
    "    print('Minimum:{:.2f}\\nMean:{:.2f}\\nMedian:{:.2f}\\nMode:{:.2f}\\nMaximum:{:.2f}\\n'.format(min_val,\n",
    "                                                                                            mean_val,\n",
    "                                                                                            med_val,\n",
    "                                                                                            mod_val,\n",
    "                                                                                            max_val))\n",
    "\n",
    "# Call the function\n",
    "show_distribution(varX)"
   ]
  },
  {
   "cell_type": "code",
   "execution_count": 11,
   "metadata": {
    "scrolled": true
   },
   "outputs": [
    {
     "name": "stdout",
     "output_type": "stream",
     "text": [
      "Minimum:18.20\n",
      "Mean:31.51\n",
      "Median:31.77\n",
      "Mode:18.20\n",
      "Maximum:56.03\n",
      "\n"
     ]
    },
    {
     "data": {
      "image/png": "[encoded data removed]",
      "text/plain": [
       "<Figure size 360x288 with 2 Axes>"
      ]
     },
     "metadata": {
      "needs_background": "light"
     },
     "output_type": "display_data"
    }
   ],
   "source": [
    "# Get the variable to examine\n",
    "varX = df['BMI']\n",
    "\n",
    "# figure and subplots:\n",
    "f, (ax1, ax2) = plt.subplots(2, 1, figsize = (5,4))\n",
    "\n",
    "#ax1.boxplot(['PlasmaGlucose'], 'Diabetic')\n",
    "\n",
    "ax1.hist(varX)\n",
    "ax1.set_title('BMI distrubution')\n",
    "ax1.set_xlim(0, 60)\n",
    "ax1.set_xlabel('BMI (A.U.)')\n",
    "ax1.set_ylabel('Number of patients')\n",
    "\n",
    "ax2.boxplot(varX, vert=False)\n",
    "ax2.set_xlim(0, 60)\n",
    "ax2.set_xlabel('BMI (A.U.)')\n",
    "\n",
    "#meanPG = df['PlasmaGlucose'].mean()\n",
    "#print('Average Plasma Glucose: {:.2f} (A.U.)'.format(meanPG))\n",
    "\n",
    "\n",
    "# create a function:\n",
    "def show_distribution(varX):\n",
    "    \n",
    "# Show statistics\n",
    "    min_val = varX.min()\n",
    "    max_val = varX.max()\n",
    "    mean_val = varX.mean()\n",
    "    med_val = varX.median()\n",
    "    mod_val = varX.mode()[0]\n",
    "\n",
    "    print('Minimum:{:.2f}\\nMean:{:.2f}\\nMedian:{:.2f}\\nMode:{:.2f}\\nMaximum:{:.2f}\\n'.format(min_val,\n",
    "                                                                                            mean_val,\n",
    "                                                                                            med_val,\n",
    "                                                                                            mod_val,\n",
    "                                                                                            max_val))\n",
    "\n",
    "# Call the function\n",
    "show_distribution(varX)"
   ]
  },
  {
   "cell_type": "code",
   "execution_count": 12,
   "metadata": {
    "scrolled": true
   },
   "outputs": [
    {
     "name": "stdout",
     "output_type": "stream",
     "text": [
      "Minimum:0.08\n",
      "Mean:0.40\n",
      "Median:0.20\n",
      "Mode:0.30\n",
      "Maximum:2.30\n",
      "\n"
     ]
    },
    {
     "data": {
      "image/png": "[encoded data removed]",
      "text/plain": [
       "<Figure size 360x288 with 2 Axes>"
      ]
     },
     "metadata": {
      "needs_background": "light"
     },
     "output_type": "display_data"
    }
   ],
   "source": [
    "# Get the variable to examine\n",
    "varX = df['DiabetesPedigree']\n",
    "\n",
    "# figure and subplots:\n",
    "f, (ax1, ax2) = plt.subplots(2, 1, figsize = (5,4))\n",
    "\n",
    "#ax1.boxplot(['PlasmaGlucose'], 'Diabetic')\n",
    "\n",
    "ax1.hist(varX)\n",
    "ax1.set_title('Diabetes Pedigree distrubution')\n",
    "#ax1.set_xlim(0, 3)\n",
    "ax1.set_xlabel('likelihood of diabetes (A.U.)')\n",
    "ax1.set_ylabel('Number of patients')\n",
    "\n",
    "ax2.boxplot(varX, vert=False)\n",
    "#ax2.set_xlim(0, 3)\n",
    "ax2.set_xlabel('likelihood of diabetes (A.U.)')\n",
    "\n",
    "#meanPG = df['PlasmaGlucose'].mean()\n",
    "#print('Average Plasma Glucose: {:.2f} (A.U.)'.format(meanPG))\n",
    "\n",
    "\n",
    "# create a function:\n",
    "def show_distribution(varX):\n",
    "    \n",
    "# Show statistics\n",
    "    min_val = varX.min()\n",
    "    max_val = varX.max()\n",
    "    mean_val = varX.mean()\n",
    "    med_val = varX.median()\n",
    "    mod_val = varX.mode()[0]\n",
    "\n",
    "    print('Minimum:{:.2f}\\nMean:{:.2f}\\nMedian:{:.2f}\\nMode:{:.2f}\\nMaximum:{:.2f}\\n'.format(min_val,\n",
    "                                                                                            mean_val,\n",
    "                                                                                            med_val,\n",
    "                                                                                            mod_val,\n",
    "                                                                                            max_val))\n",
    "\n",
    "# Call the function\n",
    "show_distribution(varX)"
   ]
  },
  {
   "cell_type": "code",
   "execution_count": 13,
   "metadata": {
    "scrolled": true
   },
   "outputs": [
    {
     "name": "stdout",
     "output_type": "stream",
     "text": [
      "Minimum:21.00\n",
      "Mean:30.14\n",
      "Median:24.00\n",
      "Mode:21.00\n",
      "Maximum:77.00\n",
      "\n"
     ]
    },
    {
     "data": {
      "image/png": "[encoded data removed]",
      "text/plain": [
       "<Figure size 360x288 with 2 Axes>"
      ]
     },
     "metadata": {
      "needs_background": "light"
     },
     "output_type": "display_data"
    }
   ],
   "source": [
    "# Get the variable to examine\n",
    "varX = df['Age']\n",
    "\n",
    "# figure and subplots:\n",
    "f, (ax1, ax2) = plt.subplots(2, 1, figsize = (5,4))\n",
    "\n",
    "#ax1.boxplot(['PlasmaGlucose'], 'Diabetic')\n",
    "\n",
    "ax1.hist(varX)\n",
    "ax1.set_title('Age distrubution')\n",
    "ax1.set_xlim(0, 90)\n",
    "ax1.set_xlabel('Age (years)')\n",
    "ax1.set_ylabel('Number of patients')\n",
    "\n",
    "ax2.boxplot(varX, vert=False)\n",
    "ax2.set_xlim(0, 90)\n",
    "ax2.set_xlabel('Age (years)')\n",
    "\n",
    "#meanPG = df['PlasmaGlucose'].mean()\n",
    "#print('Average Plasma Glucose: {:.2f} (A.U.)'.format(meanPG))\n",
    "\n",
    "\n",
    "# create a function:\n",
    "def show_distribution(varX):\n",
    "    \n",
    "# Show statistics\n",
    "    min_val = varX.min()\n",
    "    max_val = varX.max()\n",
    "    mean_val = varX.mean()\n",
    "    med_val = varX.median()\n",
    "    mod_val = varX.mode()[0]\n",
    "\n",
    "    print('Minimum:{:.2f}\\nMean:{:.2f}\\nMedian:{:.2f}\\nMode:{:.2f}\\nMaximum:{:.2f}\\n'.format(min_val,\n",
    "                                                                                            mean_val,\n",
    "                                                                                            med_val,\n",
    "                                                                                            mod_val,\n",
    "                                                                                            max_val))\n",
    "\n",
    "# Call the function\n",
    "show_distribution(varX)"
   ]
  },
  {
   "cell_type": "markdown",
   "metadata": {},
   "source": [
    "Features most coorelated to Diabetic label:"
   ]
  },
  {
   "cell_type": "code",
   "execution_count": 14,
   "metadata": {},
   "outputs": [
    {
     "data": {
      "text/plain": [
       "<matplotlib.axes._subplots.AxesSubplot at 0x1b37445f9a0>"
      ]
     },
     "execution_count": 14,
     "metadata": {},
     "output_type": "execute_result"
    },
    {
     "data": {
      "image/png": "[encoded data removed]",
      "text/plain": [
       "<Figure size 432x288 with 2 Axes>"
      ]
     },
     "metadata": {
      "needs_background": "light"
     },
     "output_type": "display_data"
    }
   ],
   "source": [
    "# Import Seaborn library:\n",
    "import seaborn as sns\n",
    "\n",
    "corr = df.corr()\n",
    "\n",
    "sns.heatmap(corr, \n",
    "        xticklabels=corr.columns,\n",
    "        yticklabels=corr.columns)\n",
    "\n",
    "# print(corr)"
   ]
  },
  {
   "cell_type": "markdown",
   "metadata": {},
   "source": [
    "Highest correlation of Diabetic label appears to be with 'Pregnancies', 'Age' and 'SerumInsulin'."
   ]
  },
  {
   "cell_type": "code",
   "execution_count": 15,
   "metadata": {},
   "outputs": [
    {
     "data": {
      "text/html": [
       "<div>\n",
       "<style scoped>\n",
       "    .dataframe tbody tr th:only-of-type {\n",
       "        vertical-align: middle;\n",
       "    }\n",
       "\n",
       "    .dataframe tbody tr th {\n",
       "        vertical-align: top;\n",
       "    }\n",
       "\n",
       "    .dataframe thead th {\n",
       "        text-align: right;\n",
       "    }\n",
       "</style>\n",
       "<table border=\"1\" class=\"dataframe\">\n",
       "  <thead>\n",
       "    <tr style=\"text-align: right;\">\n",
       "      <th></th>\n",
       "      <th>PatientID</th>\n",
       "      <th>Pregnancies</th>\n",
       "      <th>PlasmaGlucose</th>\n",
       "      <th>DiastolicBloodPressure</th>\n",
       "      <th>TricepsThickness</th>\n",
       "      <th>SerumInsulin</th>\n",
       "      <th>BMI</th>\n",
       "      <th>DiabetesPedigree</th>\n",
       "      <th>Age</th>\n",
       "    </tr>\n",
       "    <tr>\n",
       "      <th>Diabetic</th>\n",
       "      <th></th>\n",
       "      <th></th>\n",
       "      <th></th>\n",
       "      <th></th>\n",
       "      <th></th>\n",
       "      <th></th>\n",
       "      <th></th>\n",
       "      <th></th>\n",
       "      <th></th>\n",
       "    </tr>\n",
       "  </thead>\n",
       "  <tbody>\n",
       "    <tr>\n",
       "      <th>0</th>\n",
       "      <td>10000</td>\n",
       "      <td>10000</td>\n",
       "      <td>10000</td>\n",
       "      <td>10000</td>\n",
       "      <td>10000</td>\n",
       "      <td>10000</td>\n",
       "      <td>10000</td>\n",
       "      <td>10000</td>\n",
       "      <td>10000</td>\n",
       "    </tr>\n",
       "    <tr>\n",
       "      <th>1</th>\n",
       "      <td>5000</td>\n",
       "      <td>5000</td>\n",
       "      <td>5000</td>\n",
       "      <td>5000</td>\n",
       "      <td>5000</td>\n",
       "      <td>5000</td>\n",
       "      <td>5000</td>\n",
       "      <td>5000</td>\n",
       "      <td>5000</td>\n",
       "    </tr>\n",
       "  </tbody>\n",
       "</table>\n",
       "</div>"
      ],
      "text/plain": [
       "          PatientID  Pregnancies  PlasmaGlucose  DiastolicBloodPressure  \\\n",
       "Diabetic                                                                  \n",
       "0             10000        10000          10000                   10000   \n",
       "1              5000         5000           5000                    5000   \n",
       "\n",
       "          TricepsThickness  SerumInsulin    BMI  DiabetesPedigree    Age  \n",
       "Diabetic                                                                  \n",
       "0                    10000         10000  10000             10000  10000  \n",
       "1                     5000          5000   5000              5000   5000  "
      ]
     },
     "execution_count": 15,
     "metadata": {},
     "output_type": "execute_result"
    },
    {
     "data": {
      "image/png": "[encoded data removed]",
      "text/plain": [
       "<Figure size 432x288 with 1 Axes>"
      ]
     },
     "metadata": {
      "needs_background": "light"
     },
     "output_type": "display_data"
    }
   ],
   "source": [
    "d2 = df.hist(['Diabetic'])\n",
    "\n",
    "df.groupby(by='Diabetic').agg('count')"
   ]
  },
  {
   "cell_type": "code",
   "execution_count": 16,
   "metadata": {},
   "outputs": [],
   "source": [
    "# Demarcate features and labels:\n",
    "features = ['Pregnancies','PlasmaGlucose','DiastolicBloodPressure','TricepsThickness','SerumInsulin','BMI','DiabetesPedigree','Age']\n",
    "label = 'Diabetic'\n",
    "\n",
    "X, y = df[features].values, df[label].values"
   ]
  },
  {
   "cell_type": "code",
   "execution_count": 17,
   "metadata": {},
   "outputs": [
    {
     "name": "stdout",
     "output_type": "stream",
     "text": [
      "['Pregnancies', 'PlasmaGlucose', 'DiastolicBloodPressure', 'TricepsThickness', 'SerumInsulin', 'BMI', 'DiabetesPedigree', 'Age']\n",
      "Diabetic\n"
     ]
    }
   ],
   "source": [
    "print(features)\n",
    "print(label)"
   ]
  },
  {
   "cell_type": "code",
   "execution_count": 18,
   "metadata": {
    "scrolled": false
   },
   "outputs": [
    {
     "data": {
      "image/png": "[encoded data removed]",
      "text/plain": [
       "<Figure size 360x288 with 1 Axes>"
      ]
     },
     "metadata": {
      "needs_background": "light"
     },
     "output_type": "display_data"
    },
    {
     "data": {
      "image/png": "[encoded data removed]",
      "text/plain": [
       "<Figure size 360x288 with 1 Axes>"
      ]
     },
     "metadata": {
      "needs_background": "light"
     },
     "output_type": "display_data"
    },
    {
     "data": {
      "image/png": "[encoded data removed]",
      "text/plain": [
       "<Figure size 360x288 with 1 Axes>"
      ]
     },
     "metadata": {
      "needs_background": "light"
     },
     "output_type": "display_data"
    },
    {
     "data": {
      "image/png": "[encoded data removed]",
      "text/plain": [
       "<Figure size 360x288 with 1 Axes>"
      ]
     },
     "metadata": {
      "needs_background": "light"
     },
     "output_type": "display_data"
    },
    {
     "data": {
      "image/png": "[encoded data removed]",
      "text/plain": [
       "<Figure size 360x288 with 1 Axes>"
      ]
     },
     "metadata": {
      "needs_background": "light"
     },
     "output_type": "display_data"
    },
    {
     "data": {
      "image/png": "[encoded data removed]",
      "text/plain": [
       "<Figure size 360x288 with 1 Axes>"
      ]
     },
     "metadata": {
      "needs_background": "light"
     },
     "output_type": "display_data"
    },
    {
     "data": {
      "image/png": "[encoded data removed]",
      "text/plain": [
       "<Figure size 360x288 with 1 Axes>"
      ]
     },
     "metadata": {
      "needs_background": "light"
     },
     "output_type": "display_data"
    },
    {
     "data": {
      "image/png": "[encoded data removed]",
      "text/plain": [
       "<Figure size 360x288 with 1 Axes>"
      ]
     },
     "metadata": {
      "needs_background": "light"
     },
     "output_type": "display_data"
    }
   ],
   "source": [
    "# compare the feature distributions versus Diabetic status:\n",
    "\n",
    "for col in features:\n",
    "    df.boxplot(column=col, by='Diabetic', figsize=(5,4))\n",
    "    plt.title(col)\n",
    "plt.show()"
   ]
  },
  {
   "cell_type": "markdown",
   "metadata": {},
   "source": [
    "The boxplots above indicate that the features Pregnancies and Age may significantly influence Diabetic status."
   ]
  },
  {
   "cell_type": "markdown",
   "metadata": {},
   "source": [
    "# Preprocessing steps:\n",
    "Normalizing, binning, removing outliers, etc. may be performed here:"
   ]
  },
  {
   "cell_type": "code",
   "execution_count": 19,
   "metadata": {},
   "outputs": [],
   "source": [
    "# Copy/ duplicate the dataframe for preprocessing\n",
    "df2 = df"
   ]
  },
  {
   "cell_type": "code",
   "execution_count": 20,
   "metadata": {},
   "outputs": [],
   "source": [
    "# Normalize this dataframe copy using the statistics above:\n",
    "\n",
    "df2['Pregnancies'] /= 10 \n",
    "df2['PlasmaGlucose'] /= 100 \n",
    "df2['DiastolicBloodPressure'] /= 100 \n",
    "df2['TricepsThickness'] /= 100 \n",
    "df2['SerumInsulin'] /= 100 \n",
    "df2['BMI'] /= 100 \n",
    "df2['Age'] /= 100 "
   ]
  },
  {
   "cell_type": "code",
   "execution_count": 21,
   "metadata": {},
   "outputs": [
    {
     "data": {
      "text/html": [
       "<div>\n",
       "<style scoped>\n",
       "    .dataframe tbody tr th:only-of-type {\n",
       "        vertical-align: middle;\n",
       "    }\n",
       "\n",
       "    .dataframe tbody tr th {\n",
       "        vertical-align: top;\n",
       "    }\n",
       "\n",
       "    .dataframe thead th {\n",
       "        text-align: right;\n",
       "    }\n",
       "</style>\n",
       "<table border=\"1\" class=\"dataframe\">\n",
       "  <thead>\n",
       "    <tr style=\"text-align: right;\">\n",
       "      <th></th>\n",
       "      <th>PatientID</th>\n",
       "      <th>Pregnancies</th>\n",
       "      <th>PlasmaGlucose</th>\n",
       "      <th>DiastolicBloodPressure</th>\n",
       "      <th>TricepsThickness</th>\n",
       "      <th>SerumInsulin</th>\n",
       "      <th>BMI</th>\n",
       "      <th>DiabetesPedigree</th>\n",
       "      <th>Age</th>\n",
       "      <th>Diabetic</th>\n",
       "    </tr>\n",
       "  </thead>\n",
       "  <tbody>\n",
       "    <tr>\n",
       "      <th>0</th>\n",
       "      <td>1354778</td>\n",
       "      <td>0.0</td>\n",
       "      <td>1.71</td>\n",
       "      <td>0.80</td>\n",
       "      <td>0.34</td>\n",
       "      <td>0.23</td>\n",
       "      <td>0.435097</td>\n",
       "      <td>1.213191</td>\n",
       "      <td>0.21</td>\n",
       "      <td>0</td>\n",
       "    </tr>\n",
       "    <tr>\n",
       "      <th>1</th>\n",
       "      <td>1147438</td>\n",
       "      <td>0.8</td>\n",
       "      <td>0.92</td>\n",
       "      <td>0.93</td>\n",
       "      <td>0.47</td>\n",
       "      <td>0.36</td>\n",
       "      <td>0.212406</td>\n",
       "      <td>0.158365</td>\n",
       "      <td>0.23</td>\n",
       "      <td>0</td>\n",
       "    </tr>\n",
       "    <tr>\n",
       "      <th>2</th>\n",
       "      <td>1640031</td>\n",
       "      <td>0.7</td>\n",
       "      <td>1.15</td>\n",
       "      <td>0.47</td>\n",
       "      <td>0.52</td>\n",
       "      <td>0.35</td>\n",
       "      <td>0.415115</td>\n",
       "      <td>0.079019</td>\n",
       "      <td>0.23</td>\n",
       "      <td>0</td>\n",
       "    </tr>\n",
       "    <tr>\n",
       "      <th>3</th>\n",
       "      <td>1883350</td>\n",
       "      <td>0.9</td>\n",
       "      <td>1.03</td>\n",
       "      <td>0.78</td>\n",
       "      <td>0.25</td>\n",
       "      <td>3.04</td>\n",
       "      <td>0.295822</td>\n",
       "      <td>1.282870</td>\n",
       "      <td>0.43</td>\n",
       "      <td>1</td>\n",
       "    </tr>\n",
       "    <tr>\n",
       "      <th>4</th>\n",
       "      <td>1424119</td>\n",
       "      <td>0.1</td>\n",
       "      <td>0.85</td>\n",
       "      <td>0.59</td>\n",
       "      <td>0.27</td>\n",
       "      <td>0.35</td>\n",
       "      <td>0.426045</td>\n",
       "      <td>0.549542</td>\n",
       "      <td>0.22</td>\n",
       "      <td>0</td>\n",
       "    </tr>\n",
       "    <tr>\n",
       "      <th>...</th>\n",
       "      <td>...</td>\n",
       "      <td>...</td>\n",
       "      <td>...</td>\n",
       "      <td>...</td>\n",
       "      <td>...</td>\n",
       "      <td>...</td>\n",
       "      <td>...</td>\n",
       "      <td>...</td>\n",
       "      <td>...</td>\n",
       "      <td>...</td>\n",
       "    </tr>\n",
       "    <tr>\n",
       "      <th>14995</th>\n",
       "      <td>1490300</td>\n",
       "      <td>1.0</td>\n",
       "      <td>0.65</td>\n",
       "      <td>0.60</td>\n",
       "      <td>0.46</td>\n",
       "      <td>1.77</td>\n",
       "      <td>0.335125</td>\n",
       "      <td>0.148327</td>\n",
       "      <td>0.41</td>\n",
       "      <td>1</td>\n",
       "    </tr>\n",
       "    <tr>\n",
       "      <th>14996</th>\n",
       "      <td>1744410</td>\n",
       "      <td>0.2</td>\n",
       "      <td>0.73</td>\n",
       "      <td>0.66</td>\n",
       "      <td>0.27</td>\n",
       "      <td>1.68</td>\n",
       "      <td>0.301326</td>\n",
       "      <td>0.862252</td>\n",
       "      <td>0.38</td>\n",
       "      <td>1</td>\n",
       "    </tr>\n",
       "    <tr>\n",
       "      <th>14997</th>\n",
       "      <td>1742742</td>\n",
       "      <td>0.0</td>\n",
       "      <td>0.93</td>\n",
       "      <td>0.89</td>\n",
       "      <td>0.43</td>\n",
       "      <td>0.57</td>\n",
       "      <td>0.186907</td>\n",
       "      <td>0.427049</td>\n",
       "      <td>0.24</td>\n",
       "      <td>0</td>\n",
       "    </tr>\n",
       "    <tr>\n",
       "      <th>14998</th>\n",
       "      <td>1099353</td>\n",
       "      <td>0.0</td>\n",
       "      <td>1.32</td>\n",
       "      <td>0.98</td>\n",
       "      <td>0.18</td>\n",
       "      <td>1.61</td>\n",
       "      <td>0.197916</td>\n",
       "      <td>0.302257</td>\n",
       "      <td>0.23</td>\n",
       "      <td>0</td>\n",
       "    </tr>\n",
       "    <tr>\n",
       "      <th>14999</th>\n",
       "      <td>1386396</td>\n",
       "      <td>0.3</td>\n",
       "      <td>1.14</td>\n",
       "      <td>0.65</td>\n",
       "      <td>0.47</td>\n",
       "      <td>5.12</td>\n",
       "      <td>0.362154</td>\n",
       "      <td>0.147363</td>\n",
       "      <td>0.34</td>\n",
       "      <td>1</td>\n",
       "    </tr>\n",
       "  </tbody>\n",
       "</table>\n",
       "<p>15000 rows × 10 columns</p>\n",
       "</div>"
      ],
      "text/plain": [
       "       PatientID  Pregnancies  PlasmaGlucose  DiastolicBloodPressure  \\\n",
       "0        1354778          0.0           1.71                    0.80   \n",
       "1        1147438          0.8           0.92                    0.93   \n",
       "2        1640031          0.7           1.15                    0.47   \n",
       "3        1883350          0.9           1.03                    0.78   \n",
       "4        1424119          0.1           0.85                    0.59   \n",
       "...          ...          ...            ...                     ...   \n",
       "14995    1490300          1.0           0.65                    0.60   \n",
       "14996    1744410          0.2           0.73                    0.66   \n",
       "14997    1742742          0.0           0.93                    0.89   \n",
       "14998    1099353          0.0           1.32                    0.98   \n",
       "14999    1386396          0.3           1.14                    0.65   \n",
       "\n",
       "       TricepsThickness  SerumInsulin       BMI  DiabetesPedigree   Age  \\\n",
       "0                  0.34          0.23  0.435097          1.213191  0.21   \n",
       "1                  0.47          0.36  0.212406          0.158365  0.23   \n",
       "2                  0.52          0.35  0.415115          0.079019  0.23   \n",
       "3                  0.25          3.04  0.295822          1.282870  0.43   \n",
       "4                  0.27          0.35  0.426045          0.549542  0.22   \n",
       "...                 ...           ...       ...               ...   ...   \n",
       "14995              0.46          1.77  0.335125          0.148327  0.41   \n",
       "14996              0.27          1.68  0.301326          0.862252  0.38   \n",
       "14997              0.43          0.57  0.186907          0.427049  0.24   \n",
       "14998              0.18          1.61  0.197916          0.302257  0.23   \n",
       "14999              0.47          5.12  0.362154          0.147363  0.34   \n",
       "\n",
       "       Diabetic  \n",
       "0             0  \n",
       "1             0  \n",
       "2             0  \n",
       "3             1  \n",
       "4             0  \n",
       "...         ...  \n",
       "14995         1  \n",
       "14996         1  \n",
       "14997         0  \n",
       "14998         0  \n",
       "14999         1  \n",
       "\n",
       "[15000 rows x 10 columns]"
      ]
     },
     "execution_count": 21,
     "metadata": {},
     "output_type": "execute_result"
    }
   ],
   "source": [
    "df2"
   ]
  },
  {
   "cell_type": "code",
   "execution_count": 22,
   "metadata": {},
   "outputs": [],
   "source": [
    "# reassign the features & label to the preprocesses df2\n",
    "X, y = df2[features].values, df2[label].values"
   ]
  },
  {
   "cell_type": "markdown",
   "metadata": {},
   "source": [
    "# Create a model\n",
    "In this case a binary classifier may work best."
   ]
  },
  {
   "cell_type": "code",
   "execution_count": 23,
   "metadata": {},
   "outputs": [],
   "source": [
    "import sklearn"
   ]
  },
  {
   "cell_type": "code",
   "execution_count": 24,
   "metadata": {},
   "outputs": [
    {
     "name": "stdout",
     "output_type": "stream",
     "text": [
      "Training cases: 96000\n",
      "Test cases: 24000\n"
     ]
    }
   ],
   "source": [
    "# Perform a typical 80-20 split to create a training & testing dataset.\n",
    "from sklearn.model_selection import train_test_split\n",
    "\n",
    "train_x, test_x, train_y, test_y = train_test_split(X, y, test_size=0.20, random_state=0)\n",
    "print ('Training cases: %d\\nTest cases: %d' % (train_x.size, test_x.size))"
   ]
  },
  {
   "cell_type": "code",
   "execution_count": 25,
   "metadata": {},
   "outputs": [],
   "source": [
    "# choose binary classifier algorithms:\n",
    "from sklearn.ensemble import RandomForestClassifier\n",
    "from sklearn.tree import DecisionTreeClassifier\n",
    "from sklearn.neural_network import MLPClassifier\n",
    "from sklearn.linear_model import LogisticRegression"
   ]
  },
  {
   "cell_type": "code",
   "execution_count": 26,
   "metadata": {},
   "outputs": [
    {
     "data": {
      "text/plain": [
       "RandomForestClassifier(random_state=13)"
      ]
     },
     "execution_count": 26,
     "metadata": {},
     "output_type": "execute_result"
    }
   ],
   "source": [
    "model = RandomForestClassifier(random_state=13)\n",
    "model.fit(train_x, train_y)"
   ]
  },
  {
   "cell_type": "code",
   "execution_count": 27,
   "metadata": {},
   "outputs": [
    {
     "data": {
      "text/plain": [
       "0.9303333333333333"
      ]
     },
     "execution_count": 27,
     "metadata": {},
     "output_type": "execute_result"
    }
   ],
   "source": [
    "# validate the model\n",
    "predicted = model.predict(test_x)\n",
    "model.score(test_x, test_y)"
   ]
  },
  {
   "cell_type": "code",
   "execution_count": 28,
   "metadata": {},
   "outputs": [
    {
     "data": {
      "text/plain": [
       "0.9808495612603829"
      ]
     },
     "execution_count": 28,
     "metadata": {},
     "output_type": "execute_result"
    }
   ],
   "source": [
    "from sklearn.metrics import roc_auc_score\n",
    "\n",
    "probabilities = model.predict_proba(test_x)\n",
    "roc_auc_score(test_y, probabilities[:, 1])"
   ]
  },
  {
   "cell_type": "code",
   "execution_count": 29,
   "metadata": {},
   "outputs": [
    {
     "data": {
      "text/plain": [
       "array([[1903,   99],\n",
       "       [ 110,  888]], dtype=int64)"
      ]
     },
     "execution_count": 29,
     "metadata": {},
     "output_type": "execute_result"
    }
   ],
   "source": [
    "from sklearn.metrics import confusion_matrix\n",
    "\n",
    "confusion_matrix(test_y, predicted)"
   ]
  },
  {
   "cell_type": "code",
   "execution_count": 30,
   "metadata": {},
   "outputs": [
    {
     "name": "stdout",
     "output_type": "stream",
     "text": [
      "1.0\n"
     ]
    }
   ],
   "source": [
    "from sklearn.metrics import precision_score\n",
    "\n",
    "train_predictions = model.predict(train_x)\n",
    "p = precision_score(train_y, train_predictions)\n",
    "print(p)"
   ]
  },
  {
   "cell_type": "code",
   "execution_count": 31,
   "metadata": {},
   "outputs": [
    {
     "name": "stdout",
     "output_type": "stream",
     "text": [
      "1.0\n"
     ]
    }
   ],
   "source": [
    "from sklearn.metrics import recall_score\n",
    "\n",
    "r = recall_score(train_y, train_predictions)\n",
    "print(r)"
   ]
  },
  {
   "cell_type": "code",
   "execution_count": 32,
   "metadata": {},
   "outputs": [
    {
     "name": "stdout",
     "output_type": "stream",
     "text": [
      "1.0\n"
     ]
    }
   ],
   "source": [
    "# Use precision and recall to calculate the F1 score:\n",
    "F1 = 2*(p*r)/(p+r)\n",
    "print(F1)"
   ]
  },
  {
   "cell_type": "code",
   "execution_count": 33,
   "metadata": {},
   "outputs": [],
   "source": [
    "# visualizethe model output\n",
    "\n",
    "import matplotlib.pyplot as plt\n",
    "%matplotlib inline\n",
    "\n",
    "import seaborn as sns\n",
    "sns.set()"
   ]
  },
  {
   "cell_type": "code",
   "execution_count": 34,
   "metadata": {},
   "outputs": [
    {
     "data": {
      "text/plain": [
       "Text(0, 0.5, 'True Positive Rate')"
      ]
     },
     "execution_count": 34,
     "metadata": {},
     "output_type": "execute_result"
    },
    {
     "data": {
      "image/png": "[encoded data removed]",
      "text/plain": [
       "<Figure size 432x288 with 1 Axes>"
      ]
     },
     "metadata": {},
     "output_type": "display_data"
    }
   ],
   "source": [
    "from sklearn.metrics import roc_curve\n",
    "fpr, tpr, _ = roc_curve(test_y, probabilities[:, 1])\n",
    "plt.plot(fpr, tpr)\n",
    "plt.plot([0, 1], [0, 1], color='grey', lw=1, linestyle='--')\n",
    "plt.xlabel('False Positive Rate')\n",
    "plt.ylabel('True Positive Rate')"
   ]
  },
  {
   "cell_type": "markdown",
   "metadata": {},
   "source": [
    "# Interpret the model:"
   ]
  },
  {
   "cell_type": "code",
   "execution_count": 35,
   "metadata": {},
   "outputs": [
    {
     "name": "stdout",
     "output_type": "stream",
     "text": [
      "Feature: 0, Score: 0.29959\n",
      "Feature: 1, Score: 0.09316\n",
      "Feature: 2, Score: 0.04920\n",
      "Feature: 3, Score: 0.05590\n",
      "Feature: 4, Score: 0.11839\n",
      "Feature: 5, Score: 0.17802\n",
      "Feature: 6, Score: 0.04293\n",
      "Feature: 7, Score: 0.16279\n"
     ]
    }
   ],
   "source": [
    "# Feature selection\n",
    "importance = model.feature_importances_\n",
    "for i,v in enumerate(importance):\n",
    "\tprint('Feature: %0d, Score: %.5f' % (i,v))"
   ]
  },
  {
   "cell_type": "code",
   "execution_count": 36,
   "metadata": {},
   "outputs": [
    {
     "data": {
      "image/png": "[encoded data removed]",
      "text/plain": [
       "<Figure size 432x288 with 1 Axes>"
      ]
     },
     "metadata": {},
     "output_type": "display_data"
    }
   ],
   "source": [
    "import numpy as np\n",
    "\n",
    "plt.bar(range(len(importance)), importance)\n",
    "    \n",
    "pos = np.arange(len(features))\n",
    "plt.xticks(pos, features, fontsize=9, rotation=45)\n",
    "\n",
    "plt.xlabel('features', fontsize=15)\n",
    "plt.show()"
   ]
  },
  {
   "cell_type": "markdown",
   "metadata": {},
   "source": [
    "Number of Pregnancies, BMI and Age appear to be the best predictors of diabetes."
   ]
  },
  {
   "cell_type": "markdown",
   "metadata": {},
   "source": [
    "# Statistical significance"
   ]
  },
  {
   "cell_type": "code",
   "execution_count": 61,
   "metadata": {},
   "outputs": [],
   "source": [
    "from scipy.stats import ttest_ind"
   ]
  },
  {
   "cell_type": "code",
   "execution_count": null,
   "metadata": {},
   "outputs": [],
   "source": [
    "# Split df2 based on Diabetic label\n",
    "\n",
    "df2.Diabetic\n",
    "\n",
    "temp0 = df2['Diabetic']==0\n",
    "tempNeg = df2[temp0]\n",
    "print(tempNeg.shape)\n",
    "\n",
    "temp1 = df2['Diabetic']==1\n",
    "tempPos = df2[temp1]\n",
    "print(tempPos.shape)"
   ]
  },
  {
   "cell_type": "code",
   "execution_count": 37,
   "metadata": {},
   "outputs": [
    {
     "data": {
      "text/plain": [
       "<matplotlib.axes._subplots.AxesSubplot at 0x1b376db6250>"
      ]
     },
     "execution_count": 37,
     "metadata": {},
     "output_type": "execute_result"
    },
    {
     "data": {
      "image/png": "[encoded data removed]",
      "text/plain": [
       "<Figure size 360x288 with 1 Axes>"
      ]
     },
     "metadata": {},
     "output_type": "display_data"
    }
   ],
   "source": [
    "df.boxplot(column='Pregnancies', by='Diabetic', figsize=(5,4))"
   ]
  },
  {
   "cell_type": "code",
   "execution_count": 77,
   "metadata": {},
   "outputs": [
    {
     "name": "stdout",
     "output_type": "stream",
     "text": [
      "Statistically significant; p=  0.0\n"
     ]
    }
   ],
   "source": [
    "# test for statistical significance: A p-value < 0.05 is statistically significant.\n",
    "\n",
    "T,P = ttest_ind(tempNeg.Pregnancies, tempPos.Pregnancies, \n",
    "                      equal_var=True)\n",
    "\n",
    "print(\"Statistically significant; p= \", P)"
   ]
  },
  {
   "cell_type": "code",
   "execution_count": 39,
   "metadata": {
    "scrolled": false
   },
   "outputs": [
    {
     "data": {
      "text/plain": [
       "<matplotlib.axes._subplots.AxesSubplot at 0x1b37477ae50>"
      ]
     },
     "execution_count": 39,
     "metadata": {},
     "output_type": "execute_result"
    },
    {
     "data": {
      "image/png": "[encoded data removed]",
      "text/plain": [
       "<Figure size 360x288 with 1 Axes>"
      ]
     },
     "metadata": {},
     "output_type": "display_data"
    }
   ],
   "source": [
    "df.boxplot(column='Age', by='Diabetic', figsize=(5,4))"
   ]
  },
  {
   "cell_type": "code",
   "execution_count": 83,
   "metadata": {},
   "outputs": [
    {
     "name": "stdout",
     "output_type": "stream",
     "text": [
      "Statistically significant; p=  0.0\n"
     ]
    }
   ],
   "source": [
    "T,P = ttest_ind(tempNeg.Age, tempPos.Age, \n",
    "                      equal_var=True)\n",
    "\n",
    "print(\"Statistically significant; p= \", P)"
   ]
  },
  {
   "cell_type": "code",
   "execution_count": 60,
   "metadata": {},
   "outputs": [
    {
     "data": {
      "text/plain": [
       "<matplotlib.axes._subplots.AxesSubplot at 0x1b374730910>"
      ]
     },
     "execution_count": 60,
     "metadata": {},
     "output_type": "execute_result"
    },
    {
     "data": {
      "image/png": "[encoded data removed]",
      "text/plain": [
       "<Figure size 360x288 with 1 Axes>"
      ]
     },
     "metadata": {},
     "output_type": "display_data"
    }
   ],
   "source": [
    "df.boxplot(column='BMI', by='Diabetic', figsize=(5,4))"
   ]
  },
  {
   "cell_type": "code",
   "execution_count": 79,
   "metadata": {},
   "outputs": [
    {
     "name": "stdout",
     "output_type": "stream",
     "text": [
      "NOT Statistically significant; p=  7.504788727520175e-150\n"
     ]
    }
   ],
   "source": [
    "# test for statistical significance: A p-value < 0.05 is statistically significant.\n",
    "\n",
    "T,P = ttest_ind(tempNeg.BMI, tempPos.BMI, \n",
    "                      equal_var=True)\n",
    "\n",
    "print(\"Not statistically significant; p= \", P)"
   ]
  },
  {
   "cell_type": "code",
   "execution_count": 82,
   "metadata": {},
   "outputs": [
    {
     "name": "stdout",
     "output_type": "stream",
     "text": [
      "Not statistically significant; p=  5.813038077704511e-208\n"
     ]
    }
   ],
   "source": [
    "# test for statistical significance: A p-value < 0.05 is statistically significant.\n",
    "\n",
    "T,P = ttest_ind(tempNeg.SerumInsulin, tempPos.SerumInsulin, \n",
    "                      equal_var=True)\n",
    "\n",
    "print(\"Not statistically significant; p= \", P)"
   ]
  },
  {
   "cell_type": "markdown",
   "metadata": {},
   "source": [
    "# Save the Model:"
   ]
  },
  {
   "cell_type": "code",
   "execution_count": 162,
   "metadata": {},
   "outputs": [
    {
     "data": {
      "text/plain": [
       "['C:\\\\Users\\\\Ryan\\\\JupyterNotebooks-Anaconda\\\\data\\\\diabetesdata_model.pkl']"
      ]
     },
     "execution_count": 162,
     "metadata": {},
     "output_type": "execute_result"
    }
   ],
   "source": [
    "# Save the model to predict labels for new data:\n",
    "\n",
    "import joblib\n",
    "\n",
    "# Save the model as a pickle file\n",
    "filename = r'C:\\Users\\Ryan\\JupyterNotebooks-Anaconda\\data\\diabetesdata_model.pkl'\n",
    "joblib.dump(model, filename)"
   ]
  },
  {
   "cell_type": "code",
   "execution_count": null,
   "metadata": {},
   "outputs": [],
   "source": [
    "# When needed, reload the model (e.g. when new data is available)\n",
    "\n",
    "# Load the model from the file\n",
    "#model = joblib.load(filename)"
   ]
  }
 ],
 "metadata": {
  "kernelspec": {
   "display_name": "Python 3",
   "language": "python",
   "name": "python3"
  },
  "language_info": {
   "codemirror_mode": {
    "name": "ipython",
    "version": 3
   },
   "file_extension": ".py",
   "mimetype": "text/x-python",
   "name": "python",
   "nbconvert_exporter": "python",
   "pygments_lexer": "ipython3",
   "version": "3.8.3"
  }
 },
 "nbformat": 4,
 "nbformat_minor": 4
}
