{
 "cells": [
  {
   "cell_type": "markdown",
   "metadata": {},
   "source": [
    "# Aim:\n",
    "Create a machine learning model to the predict the patients most likely to have diabetes."
   ]
  },
  {
   "cell_type": "code",
   "execution_count": 1,
   "metadata": {},
   "outputs": [],
   "source": [
    "# Load diabetes diagnosis data into a Pandas dataframe\n",
    "\n",
    "import pandas as pd\n",
    "\n",
    "# load the training dataset\n",
    "df = pd.read_csv(r'C:\\Users\\Ryan\\JupyterNotebooks-Anaconda\\data\\diabetesdata.csv')"
   ]
  },
  {
   "cell_type": "code",
   "execution_count": 2,
   "metadata": {},
   "outputs": [
    {
     "data": {
      "text/html": [
       "<div>\n",
       "<style scoped>\n",
       "    .dataframe tbody tr th:only-of-type {\n",
       "        vertical-align: middle;\n",
       "    }\n",
       "\n",
       "    .dataframe tbody tr th {\n",
       "        vertical-align: top;\n",
       "    }\n",
       "\n",
       "    .dataframe thead th {\n",
       "        text-align: right;\n",
       "    }\n",
       "</style>\n",
       "<table border=\"1\" class=\"dataframe\">\n",
       "  <thead>\n",
       "    <tr style=\"text-align: right;\">\n",
       "      <th></th>\n",
       "      <th>PatientID</th>\n",
       "      <th>Pregnancies</th>\n",
       "      <th>PlasmaGlucose</th>\n",
       "      <th>DiastolicBloodPressure</th>\n",
       "      <th>TricepsThickness</th>\n",
       "      <th>SerumInsulin</th>\n",
       "      <th>BMI</th>\n",
       "      <th>DiabetesPedigree</th>\n",
       "      <th>Age</th>\n",
       "      <th>Diabetic</th>\n",
       "    </tr>\n",
       "  </thead>\n",
       "  <tbody>\n",
       "    <tr>\n",
       "      <th>0</th>\n",
       "      <td>1354778</td>\n",
       "      <td>0</td>\n",
       "      <td>171</td>\n",
       "      <td>80</td>\n",
       "      <td>34</td>\n",
       "      <td>23</td>\n",
       "      <td>43.509726</td>\n",
       "      <td>1.213191</td>\n",
       "      <td>21</td>\n",
       "      <td>0</td>\n",
       "    </tr>\n",
       "    <tr>\n",
       "      <th>1</th>\n",
       "      <td>1147438</td>\n",
       "      <td>8</td>\n",
       "      <td>92</td>\n",
       "      <td>93</td>\n",
       "      <td>47</td>\n",
       "      <td>36</td>\n",
       "      <td>21.240576</td>\n",
       "      <td>0.158365</td>\n",
       "      <td>23</td>\n",
       "      <td>0</td>\n",
       "    </tr>\n",
       "    <tr>\n",
       "      <th>2</th>\n",
       "      <td>1640031</td>\n",
       "      <td>7</td>\n",
       "      <td>115</td>\n",
       "      <td>47</td>\n",
       "      <td>52</td>\n",
       "      <td>35</td>\n",
       "      <td>41.511523</td>\n",
       "      <td>0.079019</td>\n",
       "      <td>23</td>\n",
       "      <td>0</td>\n",
       "    </tr>\n",
       "    <tr>\n",
       "      <th>3</th>\n",
       "      <td>1883350</td>\n",
       "      <td>9</td>\n",
       "      <td>103</td>\n",
       "      <td>78</td>\n",
       "      <td>25</td>\n",
       "      <td>304</td>\n",
       "      <td>29.582192</td>\n",
       "      <td>1.282870</td>\n",
       "      <td>43</td>\n",
       "      <td>1</td>\n",
       "    </tr>\n",
       "    <tr>\n",
       "      <th>4</th>\n",
       "      <td>1424119</td>\n",
       "      <td>1</td>\n",
       "      <td>85</td>\n",
       "      <td>59</td>\n",
       "      <td>27</td>\n",
       "      <td>35</td>\n",
       "      <td>42.604536</td>\n",
       "      <td>0.549542</td>\n",
       "      <td>22</td>\n",
       "      <td>0</td>\n",
       "    </tr>\n",
       "    <tr>\n",
       "      <th>5</th>\n",
       "      <td>1619297</td>\n",
       "      <td>0</td>\n",
       "      <td>82</td>\n",
       "      <td>92</td>\n",
       "      <td>9</td>\n",
       "      <td>253</td>\n",
       "      <td>19.724160</td>\n",
       "      <td>0.103424</td>\n",
       "      <td>26</td>\n",
       "      <td>0</td>\n",
       "    </tr>\n",
       "    <tr>\n",
       "      <th>6</th>\n",
       "      <td>1660149</td>\n",
       "      <td>0</td>\n",
       "      <td>133</td>\n",
       "      <td>47</td>\n",
       "      <td>19</td>\n",
       "      <td>227</td>\n",
       "      <td>21.941357</td>\n",
       "      <td>0.174160</td>\n",
       "      <td>21</td>\n",
       "      <td>0</td>\n",
       "    </tr>\n",
       "    <tr>\n",
       "      <th>7</th>\n",
       "      <td>1458769</td>\n",
       "      <td>0</td>\n",
       "      <td>67</td>\n",
       "      <td>87</td>\n",
       "      <td>43</td>\n",
       "      <td>36</td>\n",
       "      <td>18.277723</td>\n",
       "      <td>0.236165</td>\n",
       "      <td>26</td>\n",
       "      <td>0</td>\n",
       "    </tr>\n",
       "    <tr>\n",
       "      <th>8</th>\n",
       "      <td>1201647</td>\n",
       "      <td>8</td>\n",
       "      <td>80</td>\n",
       "      <td>95</td>\n",
       "      <td>33</td>\n",
       "      <td>24</td>\n",
       "      <td>26.624929</td>\n",
       "      <td>0.443947</td>\n",
       "      <td>53</td>\n",
       "      <td>1</td>\n",
       "    </tr>\n",
       "    <tr>\n",
       "      <th>9</th>\n",
       "      <td>1403912</td>\n",
       "      <td>1</td>\n",
       "      <td>72</td>\n",
       "      <td>31</td>\n",
       "      <td>40</td>\n",
       "      <td>42</td>\n",
       "      <td>36.889576</td>\n",
       "      <td>0.103944</td>\n",
       "      <td>26</td>\n",
       "      <td>0</td>\n",
       "    </tr>\n",
       "  </tbody>\n",
       "</table>\n",
       "</div>"
      ],
      "text/plain": [
       "   PatientID  Pregnancies  PlasmaGlucose  DiastolicBloodPressure  \\\n",
       "0    1354778            0            171                      80   \n",
       "1    1147438            8             92                      93   \n",
       "2    1640031            7            115                      47   \n",
       "3    1883350            9            103                      78   \n",
       "4    1424119            1             85                      59   \n",
       "5    1619297            0             82                      92   \n",
       "6    1660149            0            133                      47   \n",
       "7    1458769            0             67                      87   \n",
       "8    1201647            8             80                      95   \n",
       "9    1403912            1             72                      31   \n",
       "\n",
       "   TricepsThickness  SerumInsulin        BMI  DiabetesPedigree  Age  Diabetic  \n",
       "0                34            23  43.509726          1.213191   21         0  \n",
       "1                47            36  21.240576          0.158365   23         0  \n",
       "2                52            35  41.511523          0.079019   23         0  \n",
       "3                25           304  29.582192          1.282870   43         1  \n",
       "4                27            35  42.604536          0.549542   22         0  \n",
       "5                 9           253  19.724160          0.103424   26         0  \n",
       "6                19           227  21.941357          0.174160   21         0  \n",
       "7                43            36  18.277723          0.236165   26         0  \n",
       "8                33            24  26.624929          0.443947   53         1  \n",
       "9                40            42  36.889576          0.103944   26         0  "
      ]
     },
     "execution_count": 2,
     "metadata": {},
     "output_type": "execute_result"
    }
   ],
   "source": [
    "df.head(10)"
   ]
  },
  {
   "cell_type": "markdown",
   "metadata": {},
   "source": [
    "Diagnostic data of patients who have been tested for diabetes (column 'Diabetic' is 0 for patients who tested negative, and 1 for patients who tested positive for diabetes)."
   ]
  },
  {
   "cell_type": "markdown",
   "metadata": {},
   "source": [
    "# Exploratory Data Aanlysis"
   ]
  },
  {
   "cell_type": "code",
   "execution_count": 3,
   "metadata": {},
   "outputs": [
    {
     "data": {
      "text/plain": [
       "(15000, 10)"
      ]
     },
     "execution_count": 3,
     "metadata": {},
     "output_type": "execute_result"
    }
   ],
   "source": [
    "# Number of patients:\n",
    "df.shape"
   ]
  },
  {
   "cell_type": "code",
   "execution_count": 4,
   "metadata": {},
   "outputs": [
    {
     "data": {
      "text/plain": [
       "PatientID                 0\n",
       "Pregnancies               0\n",
       "PlasmaGlucose             0\n",
       "DiastolicBloodPressure    0\n",
       "TricepsThickness          0\n",
       "SerumInsulin              0\n",
       "BMI                       0\n",
       "DiabetesPedigree          0\n",
       "Age                       0\n",
       "Diabetic                  0\n",
       "dtype: int64"
      ]
     },
     "execution_count": 4,
     "metadata": {},
     "output_type": "execute_result"
    }
   ],
   "source": [
    "# Idetify null or NaN values in the data:\n",
    "df.isnull().sum()"
   ]
  },
  {
   "cell_type": "code",
   "execution_count": 5,
   "metadata": {},
   "outputs": [],
   "source": [
    "# Basic statistical analysis\n",
    "\n",
    "from matplotlib import pyplot as plt"
   ]
  },
  {
   "cell_type": "code",
   "execution_count": 6,
   "metadata": {},
   "outputs": [
    {
     "name": "stdout",
     "output_type": "stream",
     "text": [
      "Pregnancy stats:\n",
      "Minimum:0.00\n",
      "Mean:3.22\n",
      "Median:2.00\n",
      "Mode:0.00\n",
      "Maximum:14.00\n",
      "\n"
     ]
    },
    {
     "data": {
      "image/png": "[encoded data removed]",
      "text/plain": [
       "<Figure size 360x288 with 2 Axes>"
      ]
     },
     "metadata": {
      "needs_background": "light"
     },
     "output_type": "display_data"
    }
   ],
   "source": [
    "# Get the variable to examine\n",
    "varX = df['Pregnancies']\n",
    "\n",
    "# figure and subplots:\n",
    "f, (ax1, ax2) = plt.subplots(2, 1, figsize = (5,4))\n",
    "\n",
    "ax1.hist(varX)\n",
    "ax1.set_title('Pregnancies distrubution')\n",
    "ax1.set_xlabel('Number of pregnancies')\n",
    "ax1.set_ylabel('Number of patients')\n",
    "\n",
    "ax2.boxplot(varX, vert=False)\n",
    "ax2.set_xlabel('Number of pregnancies')\n",
    "\n",
    "#meanPG = df['PlasmaGlucose'].mean()\n",
    "#print('Average Plasma Glucose: {:.2f} (A.U.)'.format(meanPG))\n",
    "\n",
    "\n",
    "# create a function:\n",
    "def show_distribution(varX):\n",
    "    \n",
    "# Show statistics\n",
    "    min_val = varX.min()\n",
    "    max_val = varX.max()\n",
    "    mean_val = varX.mean()\n",
    "    med_val = varX.median()\n",
    "    mod_val = varX.mode()[0]\n",
    "\n",
    "    print('Pregnancy stats:\\nMinimum:{:.2f}\\nMean:{:.2f}\\nMedian:{:.2f}\\nMode:{:.2f}\\nMaximum:{:.2f}\\n'.format(min_val,\n",
    "                                                                                            mean_val,\n",
    "                                                                                            med_val,\n",
    "                                                                                            mod_val,\n",
    "                                                                                            max_val))\n",
    "\n",
    "# Call the function\n",
    "show_distribution(varX)"
   ]
  },
  {
   "cell_type": "code",
   "execution_count": 7,
   "metadata": {
    "scrolled": true
   },
   "outputs": [
    {
     "name": "stdout",
     "output_type": "stream",
     "text": [
      "Plasma Glucose stats\n",
      "Minimum:44.00\n",
      "Mean:107.86\n",
      "Median:104.00\n",
      "Mode:97.00\n",
      "Maximum:192.00\n",
      "\n"
     ]
    },
    {
     "data": {
      "image/png": "[encoded data removed]",
      "text/plain": [
       "<Figure size 360x288 with 2 Axes>"
      ]
     },
     "metadata": {
      "needs_background": "light"
     },
     "output_type": "display_data"
    }
   ],
   "source": [
    "# Get the variable to examine\n",
    "varX = df['PlasmaGlucose']\n",
    "\n",
    "# figure and subplots:\n",
    "f, (ax1, ax2) = plt.subplots(2, 1, figsize = (5,4))\n",
    "\n",
    "ax1.hist(varX)\n",
    "ax1.set_title('Plasma Glucose distrubution')\n",
    "ax1.set_xlim(0, 200)\n",
    "ax1.set_xlabel('Plasma Glucose Level (A.U.)')\n",
    "ax1.set_ylabel('Number of patients')\n",
    "\n",
    "ax2.boxplot(varX, vert=False)\n",
    "ax2.set_xlim(0, 200)\n",
    "ax2.set_xlabel('Plasma Glucose Level (A.U.)')\n",
    "\n",
    "#meanPG = df['PlasmaGlucose'].mean()\n",
    "#print('Average Plasma Glucose: {:.2f} (A.U.)'.format(meanPG))\n",
    "\n",
    "\n",
    "# create a function:\n",
    "def show_distribution(varX):\n",
    "    \n",
    "# Show statistics\n",
    "    min_val = varX.min()\n",
    "    max_val = varX.max()\n",
    "    mean_val = varX.mean()\n",
    "    med_val = varX.median()\n",
    "    mod_val = varX.mode()[0]\n",
    "\n",
    "    print('Plasma Glucose stats\\nMinimum:{:.2f}\\nMean:{:.2f}\\nMedian:{:.2f}\\nMode:{:.2f}\\nMaximum:{:.2f}\\n'.format(min_val,\n",
    "                                                                                            mean_val,\n",
    "                                                                                            med_val,\n",
    "                                                                                            mod_val,\n",
    "                                                                                            max_val))\n",
    "\n",
    "# Call the function\n",
    "show_distribution(varX)"
   ]
  },
  {
   "cell_type": "code",
   "execution_count": 8,
   "metadata": {},
   "outputs": [
    {
     "name": "stdout",
     "output_type": "stream",
     "text": [
      "Minimum:24.00\n",
      "Mean:71.22\n",
      "Median:72.00\n",
      "Mode:81.00\n",
      "Maximum:117.00\n",
      "\n"
     ]
    },
    {
     "data": {
      "image/png": "[encoded data removed]",
      "text/plain": [
       "<Figure size 360x288 with 2 Axes>"
      ]
     },
     "metadata": {
      "needs_background": "light"
     },
     "output_type": "display_data"
    }
   ],
   "source": [
    "# Get the variable to examine\n",
    "varX = df['DiastolicBloodPressure']\n",
    "\n",
    "# figure and subplots:\n",
    "f, (ax1, ax2) = plt.subplots(2, 1, figsize = (5,4))\n",
    "\n",
    "#ax1.boxplot(['PlasmaGlucose'], 'Diabetic')\n",
    "\n",
    "ax1.hist(varX)\n",
    "ax1.set_title('Diastolic Blood Pressure')\n",
    "ax1.set_xlim(0, 125)\n",
    "ax1.set_xlabel('blood pressure (mmHg)')\n",
    "ax1.set_ylabel('Number of patients')\n",
    "\n",
    "ax2.boxplot(varX, vert=False)\n",
    "ax2.set_xlim(0, 125)\n",
    "ax2.set_xlabel('blood pressure (mmHg)')\n",
    "\n",
    "#meanPG = df['PlasmaGlucose'].mean()\n",
    "#print('Average Plasma Glucose: {:.2f} (A.U.)'.format(meanPG))\n",
    "\n",
    "\n",
    "# create a function:\n",
    "def show_distribution(varX):\n",
    "    \n",
    "# Show statistics\n",
    "    min_val = varX.min()\n",
    "    max_val = varX.max()\n",
    "    mean_val = varX.mean()\n",
    "    med_val = varX.median()\n",
    "    mod_val = varX.mode()[0]\n",
    "\n",
    "    print('Minimum:{:.2f}\\nMean:{:.2f}\\nMedian:{:.2f}\\nMode:{:.2f}\\nMaximum:{:.2f}\\n'.format(min_val,\n",
    "                                                                                            mean_val,\n",
    "                                                                                            med_val,\n",
    "                                                                                            mod_val,\n",
    "                                                                                            max_val))\n",
    "\n",
    "# Call the function\n",
    "show_distribution(varX)"
   ]
  },
  {
   "cell_type": "code",
   "execution_count": 93,
   "metadata": {
    "scrolled": true
   },
   "outputs": [
    {
     "name": "stdout",
     "output_type": "stream",
     "text": [
      "Minimum:7.00\n",
      "Mean:28.81\n",
      "Median:31.00\n",
      "Mode:11.00\n",
      "Maximum:93.00\n",
      "\n"
     ]
    },
    {
     "data": {
      "image/png": "[encoded data removed]",
      "text/plain": [
       "<Figure size 360x288 with 2 Axes>"
      ]
     },
     "metadata": {
      "needs_background": "light"
     },
     "output_type": "display_data"
    }
   ],
   "source": [
    "# Get the variable to examine\n",
    "varX = df['TricepsThickness']\n",
    "\n",
    "# figure and subplots:\n",
    "f, (ax1, ax2) = plt.subplots(2, 1, figsize = (5,4))\n",
    "\n",
    "#ax1.boxplot(['PlasmaGlucose'], 'Diabetic')\n",
    "\n",
    "ax1.hist(varX)\n",
    "ax1.set_title('Triceps Thickness')\n",
    "ax1.set_xlim(0, 100)\n",
    "ax1.set_xlabel('skinfold (mm)')\n",
    "ax1.set_ylabel('Number of patients')\n",
    "\n",
    "ax2.boxplot(varX, vert=False)\n",
    "ax2.set_xlim(0, 100)\n",
    "ax2.set_xlabel('skinfold (mm)')\n",
    "\n",
    "#meanPG = df['PlasmaGlucose'].mean()\n",
    "#print('Average Plasma Glucose: {:.2f} (A.U.)'.format(meanPG))\n",
    "\n",
    "\n",
    "# create a function:\n",
    "def show_distribution(varX):\n",
    "    \n",
    "# Show statistics\n",
    "    min_val = varX.min()\n",
    "    max_val = varX.max()\n",
    "    mean_val = varX.mean()\n",
    "    med_val = varX.median()\n",
    "    mod_val = varX.mode()[0]\n",
    "\n",
    "    print('Minimum:{:.2f}\\nMean:{:.2f}\\nMedian:{:.2f}\\nMode:{:.2f}\\nMaximum:{:.2f}\\n'.format(min_val,\n",
    "                                                                                            mean_val,\n",
    "                                                                                            med_val,\n",
    "                                                                                            mod_val,\n",
    "                                                                                            max_val))\n",
    "\n",
    "# Call the function\n",
    "show_distribution(varX)"
   ]
  },
  {
   "cell_type": "code",
   "execution_count": 9,
   "metadata": {
    "scrolled": true
   },
   "outputs": [
    {
     "name": "stdout",
     "output_type": "stream",
     "text": [
      "Minimum:14.00\n",
      "Mean:137.85\n",
      "Median:83.00\n",
      "Mode:27.00\n",
      "Maximum:799.00\n",
      "\n"
     ]
    },
    {
     "data": {
      "image/png": "[encoded data removed]",
      "text/plain": [
       "<Figure size 360x288 with 2 Axes>"
      ]
     },
     "metadata": {
      "needs_background": "light"
     },
     "output_type": "display_data"
    }
   ],
   "source": [
    "# Get the variable to examine\n",
    "varX = df['SerumInsulin']\n",
    "\n",
    "# figure and subplots:\n",
    "f, (ax1, ax2) = plt.subplots(2, 1, figsize = (5,4))\n",
    "\n",
    "#ax1.boxplot(['PlasmaGlucose'], 'Diabetic')\n",
    "\n",
    "ax1.hist(varX)\n",
    "ax1.set_title('Serum Insulin distrubution')\n",
    "#ax1.set_xlim(0, 200)\n",
    "ax1.set_xlabel('Serum Insulin Level (A.U.)')\n",
    "ax1.set_ylabel('Number of patients')\n",
    "\n",
    "ax2.boxplot(varX, vert=False)\n",
    "#ax2.set_xlim(0, 200)\n",
    "ax2.set_xlabel('Serum Insulin Level (A.U.)')\n",
    "\n",
    "#meanPG = df['PlasmaGlucose'].mean()\n",
    "#print('Average Plasma Glucose: {:.2f} (A.U.)'.format(meanPG))\n",
    "\n",
    "\n",
    "# create a function:\n",
    "def show_distribution(varX):\n",
    "    \n",
    "# Show statistics\n",
    "    min_val = varX.min()\n",
    "    max_val = varX.max()\n",
    "    mean_val = varX.mean()\n",
    "    med_val = varX.median()\n",
    "    mod_val = varX.mode()[0]\n",
    "\n",
    "    print('Minimum:{:.2f}\\nMean:{:.2f}\\nMedian:{:.2f}\\nMode:{:.2f}\\nMaximum:{:.2f}\\n'.format(min_val,\n",
    "                                                                                            mean_val,\n",
    "                                                                                            med_val,\n",
    "                                                                                            mod_val,\n",
    "                                                                                            max_val))\n",
    "\n",
    "# Call the function\n",
    "show_distribution(varX)"
   ]
  },
  {
   "cell_type": "code",
   "execution_count": 10,
   "metadata": {
    "scrolled": true
   },
   "outputs": [
    {
     "name": "stdout",
     "output_type": "stream",
     "text": [
      "Minimum:18.20\n",
      "Mean:31.51\n",
      "Median:31.77\n",
      "Mode:18.20\n",
      "Maximum:56.03\n",
      "\n"
     ]
    },
    {
     "data": {
      "image/png": "[encoded data removed]",
      "text/plain": [
       "<Figure size 360x288 with 2 Axes>"
      ]
     },
     "metadata": {
      "needs_background": "light"
     },
     "output_type": "display_data"
    }
   ],
   "source": [
    "# Get the variable to examine\n",
    "varX = df['BMI']\n",
    "\n",
    "# figure and subplots:\n",
    "f, (ax1, ax2) = plt.subplots(2, 1, figsize = (5,4))\n",
    "\n",
    "#ax1.boxplot(['PlasmaGlucose'], 'Diabetic')\n",
    "\n",
    "ax1.hist(varX)\n",
    "ax1.set_title('BMI distrubution')\n",
    "ax1.set_xlim(0, 60)\n",
    "ax1.set_xlabel('BMI (A.U.)')\n",
    "ax1.set_ylabel('Number of patients')\n",
    "\n",
    "ax2.boxplot(varX, vert=False)\n",
    "ax2.set_xlim(0, 60)\n",
    "ax2.set_xlabel('BMI (A.U.)')\n",
    "\n",
    "#meanPG = df['PlasmaGlucose'].mean()\n",
    "#print('Average Plasma Glucose: {:.2f} (A.U.)'.format(meanPG))\n",
    "\n",
    "\n",
    "# create a function:\n",
    "def show_distribution(varX):\n",
    "    \n",
    "# Show statistics\n",
    "    min_val = varX.min()\n",
    "    max_val = varX.max()\n",
    "    mean_val = varX.mean()\n",
    "    med_val = varX.median()\n",
    "    mod_val = varX.mode()[0]\n",
    "\n",
    "    print('Minimum:{:.2f}\\nMean:{:.2f}\\nMedian:{:.2f}\\nMode:{:.2f}\\nMaximum:{:.2f}\\n'.format(min_val,\n",
    "                                                                                            mean_val,\n",
    "                                                                                            med_val,\n",
    "                                                                                            mod_val,\n",
    "                                                                                            max_val))\n",
    "\n",
    "# Call the function\n",
    "show_distribution(varX)"
   ]
  },
  {
   "cell_type": "code",
   "execution_count": 11,
   "metadata": {
    "scrolled": true
   },
   "outputs": [
    {
     "name": "stdout",
     "output_type": "stream",
     "text": [
      "Minimum:0.08\n",
      "Mean:0.40\n",
      "Median:0.20\n",
      "Mode:0.30\n",
      "Maximum:2.30\n",
      "\n"
     ]
    },
    {
     "data": {
      "image/png": "[encoded data removed]",
      "text/plain": [
       "<Figure size 360x288 with 2 Axes>"
      ]
     },
     "metadata": {
      "needs_background": "light"
     },
     "output_type": "display_data"
    }
   ],
   "source": [
    "# Get the variable to examine\n",
    "varX = df['DiabetesPedigree']\n",
    "\n",
    "# figure and subplots:\n",
    "f, (ax1, ax2) = plt.subplots(2, 1, figsize = (5,4))\n",
    "\n",
    "#ax1.boxplot(['PlasmaGlucose'], 'Diabetic')\n",
    "\n",
    "ax1.hist(varX)\n",
    "ax1.set_title('Diabetes Pedigree distrubution')\n",
    "#ax1.set_xlim(0, 3)\n",
    "ax1.set_xlabel('likelihood of diabetes (A.U.)')\n",
    "ax1.set_ylabel('Number of patients')\n",
    "\n",
    "ax2.boxplot(varX, vert=False)\n",
    "#ax2.set_xlim(0, 3)\n",
    "ax2.set_xlabel('likelihood of diabetes (A.U.)')\n",
    "\n",
    "#meanPG = df['PlasmaGlucose'].mean()\n",
    "#print('Average Plasma Glucose: {:.2f} (A.U.)'.format(meanPG))\n",
    "\n",
    "\n",
    "# create a function:\n",
    "def show_distribution(varX):\n",
    "    \n",
    "# Show statistics\n",
    "    min_val = varX.min()\n",
    "    max_val = varX.max()\n",
    "    mean_val = varX.mean()\n",
    "    med_val = varX.median()\n",
    "    mod_val = varX.mode()[0]\n",
    "\n",
    "    print('Minimum:{:.2f}\\nMean:{:.2f}\\nMedian:{:.2f}\\nMode:{:.2f}\\nMaximum:{:.2f}\\n'.format(min_val,\n",
    "                                                                                            mean_val,\n",
    "                                                                                            med_val,\n",
    "                                                                                            mod_val,\n",
    "                                                                                            max_val))\n",
    "\n",
    "# Call the function\n",
    "show_distribution(varX)"
   ]
  },
  {
   "cell_type": "code",
   "execution_count": 12,
   "metadata": {
    "scrolled": true
   },
   "outputs": [
    {
     "name": "stdout",
     "output_type": "stream",
     "text": [
      "Minimum:21.00\n",
      "Mean:30.14\n",
      "Median:24.00\n",
      "Mode:21.00\n",
      "Maximum:77.00\n",
      "\n"
     ]
    },
    {
     "data": {
      "image/png": "[encoded data removed]",
      "text/plain": [
       "<Figure size 360x288 with 2 Axes>"
      ]
     },
     "metadata": {
      "needs_background": "light"
     },
     "output_type": "display_data"
    }
   ],
   "source": [
    "# Get the variable to examine\n",
    "varX = df['Age']\n",
    "\n",
    "# figure and subplots:\n",
    "f, (ax1, ax2) = plt.subplots(2, 1, figsize = (5,4))\n",
    "\n",
    "#ax1.boxplot(['PlasmaGlucose'], 'Diabetic')\n",
    "\n",
    "ax1.hist(varX)\n",
    "ax1.set_title('Age distrubution')\n",
    "ax1.set_xlim(0, 90)\n",
    "ax1.set_xlabel('Age (years)')\n",
    "ax1.set_ylabel('Number of patients')\n",
    "\n",
    "ax2.boxplot(varX, vert=False)\n",
    "ax2.set_xlim(0, 90)\n",
    "ax2.set_xlabel('Age (years)')\n",
    "\n",
    "#meanPG = df['PlasmaGlucose'].mean()\n",
    "#print('Average Plasma Glucose: {:.2f} (A.U.)'.format(meanPG))\n",
    "\n",
    "\n",
    "# create a function:\n",
    "def show_distribution(varX):\n",
    "    \n",
    "# Show statistics\n",
    "    min_val = varX.min()\n",
    "    max_val = varX.max()\n",
    "    mean_val = varX.mean()\n",
    "    med_val = varX.median()\n",
    "    mod_val = varX.mode()[0]\n",
    "\n",
    "    print('Minimum:{:.2f}\\nMean:{:.2f}\\nMedian:{:.2f}\\nMode:{:.2f}\\nMaximum:{:.2f}\\n'.format(min_val,\n",
    "                                                                                            mean_val,\n",
    "                                                                                            med_val,\n",
    "                                                                                            mod_val,\n",
    "                                                                                            max_val))\n",
    "\n",
    "# Call the function\n",
    "show_distribution(varX)"
   ]
  },
  {
   "cell_type": "markdown",
   "metadata": {},
   "source": [
    "Features most coorelated to Diabetic label:"
   ]
  },
  {
   "cell_type": "code",
   "execution_count": 13,
   "metadata": {},
   "outputs": [
    {
     "data": {
      "text/plain": [
       "<matplotlib.axes._subplots.AxesSubplot at 0x1e94e91abb0>"
      ]
     },
     "execution_count": 13,
     "metadata": {},
     "output_type": "execute_result"
    },
    {
     "data": {
      "image/png": "[encoded data removed]",
      "text/plain": [
       "<Figure size 432x288 with 2 Axes>"
      ]
     },
     "metadata": {
      "needs_background": "light"
     },
     "output_type": "display_data"
    }
   ],
   "source": [
    "# Import Seaborn library:\n",
    "import seaborn as sns\n",
    "\n",
    "corr = df.corr()\n",
    "\n",
    "sns.heatmap(corr, \n",
    "        xticklabels=corr.columns,\n",
    "        yticklabels=corr.columns)\n",
    "\n",
    "# print(corr)"
   ]
  },
  {
   "cell_type": "markdown",
   "metadata": {},
   "source": [
    "Highest correlation of Diabetic label appears to be with 'Pregnancies', 'Age' and 'SerumInsulin'."
   ]
  },
  {
   "cell_type": "code",
   "execution_count": 14,
   "metadata": {},
   "outputs": [],
   "source": [
    "# Features distrubuted by Diabetic label:\n",
    "\n",
    "# Identify features and labels:\n",
    "features = ['Pregnancies','PlasmaGlucose','DiastolicBloodPressure','TricepsThickness','SerumInsulin','BMI','DiabetesPedigree','Age']\n",
    "label = 'Diabetic'\n",
    "#X, y = df[features].values, df[label].values"
   ]
  },
  {
   "cell_type": "code",
   "execution_count": 15,
   "metadata": {},
   "outputs": [
    {
     "name": "stdout",
     "output_type": "stream",
     "text": [
      "['Pregnancies', 'PlasmaGlucose', 'DiastolicBloodPressure', 'TricepsThickness', 'SerumInsulin', 'BMI', 'DiabetesPedigree', 'Age']\n",
      "Diabetic\n"
     ]
    }
   ],
   "source": [
    "print(features)\n",
    "print(label)"
   ]
  },
  {
   "cell_type": "code",
   "execution_count": 16,
   "metadata": {},
   "outputs": [
    {
     "data": {
      "text/html": [
       "<div>\n",
       "<style scoped>\n",
       "    .dataframe tbody tr th:only-of-type {\n",
       "        vertical-align: middle;\n",
       "    }\n",
       "\n",
       "    .dataframe tbody tr th {\n",
       "        vertical-align: top;\n",
       "    }\n",
       "\n",
       "    .dataframe thead th {\n",
       "        text-align: right;\n",
       "    }\n",
       "</style>\n",
       "<table border=\"1\" class=\"dataframe\">\n",
       "  <thead>\n",
       "    <tr style=\"text-align: right;\">\n",
       "      <th></th>\n",
       "      <th>PatientID</th>\n",
       "      <th>Pregnancies</th>\n",
       "      <th>PlasmaGlucose</th>\n",
       "      <th>DiastolicBloodPressure</th>\n",
       "      <th>TricepsThickness</th>\n",
       "      <th>SerumInsulin</th>\n",
       "      <th>BMI</th>\n",
       "      <th>DiabetesPedigree</th>\n",
       "      <th>Age</th>\n",
       "    </tr>\n",
       "    <tr>\n",
       "      <th>Diabetic</th>\n",
       "      <th></th>\n",
       "      <th></th>\n",
       "      <th></th>\n",
       "      <th></th>\n",
       "      <th></th>\n",
       "      <th></th>\n",
       "      <th></th>\n",
       "      <th></th>\n",
       "      <th></th>\n",
       "    </tr>\n",
       "  </thead>\n",
       "  <tbody>\n",
       "    <tr>\n",
       "      <th>0</th>\n",
       "      <td>10000</td>\n",
       "      <td>10000</td>\n",
       "      <td>10000</td>\n",
       "      <td>10000</td>\n",
       "      <td>10000</td>\n",
       "      <td>10000</td>\n",
       "      <td>10000</td>\n",
       "      <td>10000</td>\n",
       "      <td>10000</td>\n",
       "    </tr>\n",
       "    <tr>\n",
       "      <th>1</th>\n",
       "      <td>5000</td>\n",
       "      <td>5000</td>\n",
       "      <td>5000</td>\n",
       "      <td>5000</td>\n",
       "      <td>5000</td>\n",
       "      <td>5000</td>\n",
       "      <td>5000</td>\n",
       "      <td>5000</td>\n",
       "      <td>5000</td>\n",
       "    </tr>\n",
       "  </tbody>\n",
       "</table>\n",
       "</div>"
      ],
      "text/plain": [
       "          PatientID  Pregnancies  PlasmaGlucose  DiastolicBloodPressure  \\\n",
       "Diabetic                                                                  \n",
       "0             10000        10000          10000                   10000   \n",
       "1              5000         5000           5000                    5000   \n",
       "\n",
       "          TricepsThickness  SerumInsulin    BMI  DiabetesPedigree    Age  \n",
       "Diabetic                                                                  \n",
       "0                    10000         10000  10000             10000  10000  \n",
       "1                     5000          5000   5000              5000   5000  "
      ]
     },
     "execution_count": 16,
     "metadata": {},
     "output_type": "execute_result"
    },
    {
     "data": {
      "image/png": "[encoded data removed]",
      "text/plain": [
       "<Figure size 432x288 with 1 Axes>"
      ]
     },
     "metadata": {
      "needs_background": "light"
     },
     "output_type": "display_data"
    }
   ],
   "source": [
    "d2 = df.hist(['Diabetic'])\n",
    "\n",
    "df.groupby(by='Diabetic').agg('count')"
   ]
  },
  {
   "cell_type": "code",
   "execution_count": 17,
   "metadata": {},
   "outputs": [
    {
     "data": {
      "image/png": "[encoded data removed]",
      "text/plain": [
       "<Figure size 360x288 with 1 Axes>"
      ]
     },
     "metadata": {
      "needs_background": "light"
     },
     "output_type": "display_data"
    },
    {
     "data": {
      "image/png": "[encoded data removed]",
      "text/plain": [
       "<Figure size 360x288 with 1 Axes>"
      ]
     },
     "metadata": {
      "needs_background": "light"
     },
     "output_type": "display_data"
    },
    {
     "data": {
      "image/png": "[encoded data removed]",
      "text/plain": [
       "<Figure size 360x288 with 1 Axes>"
      ]
     },
     "metadata": {
      "needs_background": "light"
     },
     "output_type": "display_data"
    },
    {
     "data": {
      "image/png": "[encoded data removed]",
      "text/plain": [
       "<Figure size 360x288 with 1 Axes>"
      ]
     },
     "metadata": {
      "needs_background": "light"
     },
     "output_type": "display_data"
    },
    {
     "data": {
      "image/png": "[encoded data removed]",
      "text/plain": [
       "<Figure size 360x288 with 1 Axes>"
      ]
     },
     "metadata": {
      "needs_background": "light"
     },
     "output_type": "display_data"
    },
    {
     "data": {
      "image/png": "[encoded data removed]",
      "text/plain": [
       "<Figure size 360x288 with 1 Axes>"
      ]
     },
     "metadata": {
      "needs_background": "light"
     },
     "output_type": "display_data"
    },
    {
     "data": {
      "image/png": "[encoded data removed]",
      "text/plain": [
       "<Figure size 360x288 with 1 Axes>"
      ]
     },
     "metadata": {
      "needs_background": "light"
     },
     "output_type": "display_data"
    },
    {
     "data": {
      "image/png": "[encoded data removed]",
      "text/plain": [
       "<Figure size 360x288 with 1 Axes>"
      ]
     },
     "metadata": {
      "needs_background": "light"
     },
     "output_type": "display_data"
    }
   ],
   "source": [
    "# compare the feature distributions for either Diabetic label:\n",
    "\n",
    "features = ['Pregnancies','PlasmaGlucose','DiastolicBloodPressure','TricepsThickness','SerumInsulin','BMI','DiabetesPedigree','Age']\n",
    "for col in features:\n",
    "    df.boxplot(column=col, by='Diabetic', figsize=(5,4))\n",
    "    plt.title(col)\n",
    "plt.show()"
   ]
  },
  {
   "cell_type": "markdown",
   "metadata": {},
   "source": [
    "# Create a Pipeline:\n",
    "This allows for repeated testing & updating of the classifier model after adding preprocessing steps:"
   ]
  },
  {
   "cell_type": "code",
   "execution_count": 18,
   "metadata": {},
   "outputs": [],
   "source": [
    "import sklearn\n",
    "\n",
    "from sklearn.pipeline import Pipeline"
   ]
  },
  {
   "cell_type": "code",
   "execution_count": 19,
   "metadata": {},
   "outputs": [],
   "source": [
    "from sklearn.preprocessing import StandardScaler\n",
    "from sklearn.compose import ColumnTransformer"
   ]
  },
  {
   "cell_type": "code",
   "execution_count": 20,
   "metadata": {},
   "outputs": [
    {
     "name": "stdout",
     "output_type": "stream",
     "text": [
      "['Pregnancies', 'PlasmaGlucose', 'DiastolicBloodPressure', 'TricepsThickness', 'SerumInsulin', 'BMI', 'DiabetesPedigree', 'Age']\n"
     ]
    }
   ],
   "source": [
    "print(features)"
   ]
  },
  {
   "cell_type": "code",
   "execution_count": 21,
   "metadata": {},
   "outputs": [],
   "source": [
    "# Normalize numeric columns (so they're on the same scale)\n",
    "numeric_features = [0,1,2,3,4,5,6,7]\n",
    "numeric_transformer = Pipeline(steps=[('scaler', StandardScaler())])\n",
    "\n",
    "preproc = ColumnTransformer(transformers=[('num', numeric_transformer, numeric_features)])"
   ]
  },
  {
   "cell_type": "code",
   "execution_count": 22,
   "metadata": {},
   "outputs": [],
   "source": [
    "# "
   ]
  },
  {
   "cell_type": "code",
   "execution_count": 23,
   "metadata": {},
   "outputs": [
    {
     "name": "stdout",
     "output_type": "stream",
     "text": [
      "Training cases: 96000\n",
      "Test cases: 24000\n"
     ]
    }
   ],
   "source": [
    "# split training and test data:\n",
    "from sklearn.model_selection import train_test_split\n",
    "\n",
    "# Split data 80%-20% into training set and test set\n",
    "X, y = df[features].values, df[label].values\n",
    "X_train, X_test, y_train, y_test = train_test_split(X, y, test_size=0.20, random_state=0)\n",
    "print ('Training cases: %d\\nTest cases: %d' % (X_train.size, X_test.size))\n",
    "\n",
    "\n",
    "# Train a Binary Clasification model:\n",
    "from sklearn.linear_model import LogisticRegression\n",
    "\n",
    "# Set regularization rate hyperparameter\n",
    "reg = 0.01\n",
    "\n",
    "\n",
    "\n",
    "# Create preprocessing and training pipeline\n",
    "pipeline = Pipeline(steps=[('preprocessor', preproc),\n",
    "                           ('regressor', LogisticRegression(C=1/reg, solver=\"liblinear\"))])"
   ]
  },
  {
   "cell_type": "code",
   "execution_count": 24,
   "metadata": {},
   "outputs": [
    {
     "name": "stdout",
     "output_type": "stream",
     "text": [
      "Pipeline(steps=[('preprocessor',\n",
      "                 ColumnTransformer(transformers=[('num',\n",
      "                                                  Pipeline(steps=[('scaler',\n",
      "                                                                   StandardScaler())]),\n",
      "                                                  [0, 1, 2, 3, 4, 5, 6, 7])])),\n",
      "                ('regressor', LogisticRegression(C=100.0, solver='liblinear'))])\n"
     ]
    }
   ],
   "source": [
    "# fit the pipeline to train a logistic regression model on the training set\n",
    "model = pipeline.fit(X_train, (y_train))\n",
    "print (model)"
   ]
  },
  {
   "cell_type": "code",
   "execution_count": 25,
   "metadata": {},
   "outputs": [
    {
     "name": "stdout",
     "output_type": "stream",
     "text": [
      "Predicted labels:  [0 0 0 ... 1 0 1]\n",
      "Actual labels:     [0 0 1 ... 1 1 1]\n",
      "Accuracy:  0.7913333333333333\n"
     ]
    }
   ],
   "source": [
    "# compare  predicted labels to the known labels:\n",
    "\n",
    "predictions = model.predict(X_test)\n",
    "print('Predicted labels: ', predictions)\n",
    "print('Actual labels:    ' ,y_test)\n",
    "\n",
    "from sklearn.metrics import accuracy_score\n",
    "print('Accuracy: ', accuracy_score(y_test, predictions))"
   ]
  },
  {
   "cell_type": "code",
   "execution_count": 34,
   "metadata": {},
   "outputs": [
    {
     "name": "stdout",
     "output_type": "stream",
     "text": [
      "Confusion Matrix:\n",
      " [[1903   99]\n",
      " [ 111  887]] \n",
      "\n",
      "Accuracy: 0.93\n",
      "Overall Precision: 0.8995943204868154\n",
      "Overall Recall: 0.8887775551102205\n"
     ]
    }
   ],
   "source": [
    "# Get evaluation metrics\n",
    "\n",
    "# Determine the confusion matrix\n",
    "from sklearn.metrics import confusion_matrix\n",
    "\n",
    "cm = confusion_matrix(y_test, predictions)\n",
    "print ('Confusion Matrix:\\n',cm, '\\n')\n",
    "\n",
    "# Determine precision score and recall score metrics:\n",
    "from sklearn.metrics import precision_score, recall_score\n",
    "print('Accuracy:', accuracy_score(y_test, predictions))\n",
    "print(\"Overall Precision:\",precision_score(y_test, predictions))\n",
    "print(\"Overall Recall:\",recall_score(y_test, predictions))\n"
   ]
  },
  {
   "cell_type": "code",
   "execution_count": 38,
   "metadata": {},
   "outputs": [
    {
     "ename": "IndexError",
     "evalue": "too many indices for array",
     "output_type": "error",
     "traceback": [
      "\u001b[1;31m---------------------------------------------------------------------------\u001b[0m",
      "\u001b[1;31mIndexError\u001b[0m                                Traceback (most recent call last)",
      "\u001b[1;32m<ipython-input-38-dc0979e19d83>\u001b[0m in \u001b[0;36m<module>\u001b[1;34m\u001b[0m\n\u001b[0;32m      3\u001b[0m \u001b[1;32mfrom\u001b[0m \u001b[0msklearn\u001b[0m\u001b[1;33m.\u001b[0m\u001b[0mmetrics\u001b[0m \u001b[1;32mimport\u001b[0m \u001b[0mroc_curve\u001b[0m\u001b[1;33m\u001b[0m\u001b[1;33m\u001b[0m\u001b[0m\n\u001b[0;32m      4\u001b[0m \u001b[1;33m\u001b[0m\u001b[0m\n\u001b[1;32m----> 5\u001b[1;33m \u001b[0mauc\u001b[0m \u001b[1;33m=\u001b[0m \u001b[0mroc_auc_score\u001b[0m\u001b[1;33m(\u001b[0m\u001b[0my_test\u001b[0m\u001b[1;33m,\u001b[0m\u001b[0mpredictions\u001b[0m\u001b[1;33m[\u001b[0m\u001b[1;33m:\u001b[0m\u001b[1;33m,\u001b[0m\u001b[1;36m1\u001b[0m\u001b[1;33m]\u001b[0m\u001b[1;33m)\u001b[0m\u001b[1;33m\u001b[0m\u001b[1;33m\u001b[0m\u001b[0m\n\u001b[0m\u001b[0;32m      6\u001b[0m \u001b[0mprint\u001b[0m\u001b[1;33m(\u001b[0m\u001b[1;34m'AUC: '\u001b[0m \u001b[1;33m+\u001b[0m \u001b[0mstr\u001b[0m\u001b[1;33m(\u001b[0m\u001b[0mauc\u001b[0m\u001b[1;33m)\u001b[0m\u001b[1;33m)\u001b[0m\u001b[1;33m\u001b[0m\u001b[1;33m\u001b[0m\u001b[0m\n\u001b[0;32m      7\u001b[0m \u001b[1;33m\u001b[0m\u001b[0m\n",
      "\u001b[1;31mIndexError\u001b[0m: too many indices for array"
     ]
    }
   ],
   "source": [
    "# generate the ROC curve\n",
    "#from sklearn.metrics import roc_auc_score\n",
    "from sklearn.metrics import roc_curve\n",
    "\n",
    "auc = roc_auc_score(y_test,predictions[:,1])\n",
    "print('AUC: ' + str(auc))\n",
    "\n",
    "#predictions = model.predict_proba(X_test)\n",
    "fpr, tpr, thresholds = roc_curve(y_test, predictions[:,1])"
   ]
  },
  {
   "cell_type": "code",
   "execution_count": 36,
   "metadata": {},
   "outputs": [
    {
     "ename": "NameError",
     "evalue": "name 'fpr' is not defined",
     "output_type": "error",
     "traceback": [
      "\u001b[1;31m---------------------------------------------------------------------------\u001b[0m",
      "\u001b[1;31mNameError\u001b[0m                                 Traceback (most recent call last)",
      "\u001b[1;32m<ipython-input-36-8c8e8705f1fc>\u001b[0m in \u001b[0;36m<module>\u001b[1;34m\u001b[0m\n\u001b[0;32m      4\u001b[0m \u001b[0mplt\u001b[0m\u001b[1;33m.\u001b[0m\u001b[0mplot\u001b[0m\u001b[1;33m(\u001b[0m\u001b[1;33m[\u001b[0m\u001b[1;36m0\u001b[0m\u001b[1;33m,\u001b[0m \u001b[1;36m1\u001b[0m\u001b[1;33m]\u001b[0m\u001b[1;33m,\u001b[0m \u001b[1;33m[\u001b[0m\u001b[1;36m0\u001b[0m\u001b[1;33m,\u001b[0m \u001b[1;36m1\u001b[0m\u001b[1;33m]\u001b[0m\u001b[1;33m,\u001b[0m \u001b[1;34m'k--'\u001b[0m\u001b[1;33m)\u001b[0m\u001b[1;33m\u001b[0m\u001b[1;33m\u001b[0m\u001b[0m\n\u001b[0;32m      5\u001b[0m \u001b[1;31m# Plot the FPR and TPR achieved by our model\u001b[0m\u001b[1;33m\u001b[0m\u001b[1;33m\u001b[0m\u001b[1;33m\u001b[0m\u001b[0m\n\u001b[1;32m----> 6\u001b[1;33m \u001b[0mplt\u001b[0m\u001b[1;33m.\u001b[0m\u001b[0mplot\u001b[0m\u001b[1;33m(\u001b[0m\u001b[0mfpr\u001b[0m\u001b[1;33m,\u001b[0m \u001b[0mtpr\u001b[0m\u001b[1;33m)\u001b[0m\u001b[1;33m\u001b[0m\u001b[1;33m\u001b[0m\u001b[0m\n\u001b[0m\u001b[0;32m      7\u001b[0m \u001b[0mplt\u001b[0m\u001b[1;33m.\u001b[0m\u001b[0mxlabel\u001b[0m\u001b[1;33m(\u001b[0m\u001b[1;34m'False Positive Rate'\u001b[0m\u001b[1;33m)\u001b[0m\u001b[1;33m\u001b[0m\u001b[1;33m\u001b[0m\u001b[0m\n\u001b[0;32m      8\u001b[0m \u001b[0mplt\u001b[0m\u001b[1;33m.\u001b[0m\u001b[0mylabel\u001b[0m\u001b[1;33m(\u001b[0m\u001b[1;34m'True Positive Rate'\u001b[0m\u001b[1;33m)\u001b[0m\u001b[1;33m\u001b[0m\u001b[1;33m\u001b[0m\u001b[0m\n",
      "\u001b[1;31mNameError\u001b[0m: name 'fpr' is not defined"
     ]
    },
    {
     "data": {
      "image/png": "[encoded data removed]",
      "text/plain": [
       "<Figure size 432x432 with 1 Axes>"
      ]
     },
     "metadata": {
      "needs_background": "light"
     },
     "output_type": "display_data"
    }
   ],
   "source": [
    "# plot ROC curve\n",
    "fig = plt.figure(figsize=(6, 6))\n",
    "# Plot the diagonal 50% line\n",
    "plt.plot([0, 1], [0, 1], 'k--')\n",
    "# Plot the FPR and TPR achieved by our model\n",
    "plt.plot(fpr, tpr)\n",
    "plt.xlabel('False Positive Rate')\n",
    "plt.ylabel('True Positive Rate')\n",
    "plt.title('ROC Curve')\n",
    "plt.show()"
   ]
  },
  {
   "cell_type": "markdown",
   "metadata": {},
   "source": [
    "# Evaluate different classifier models:"
   ]
  },
  {
   "cell_type": "code",
   "execution_count": 28,
   "metadata": {},
   "outputs": [
    {
     "name": "stdout",
     "output_type": "stream",
     "text": [
      "Pipeline(steps=[('preprocessor',\n",
      "                 ColumnTransformer(transformers=[('num',\n",
      "                                                  Pipeline(steps=[('scaler',\n",
      "                                                                   StandardScaler())]),\n",
      "                                                  [0, 1, 2, 3, 4, 5, 6, 7])])),\n",
      "                ('regressor', RandomForestClassifier())])\n",
      "Confusion Matrix:\n",
      " [[1903   99]\n",
      " [ 111  887]] \n",
      "\n",
      "Accuracy: 0.93\n",
      "Overall Precision: 0.8995943204868154\n",
      "Overall Recall: 0.8887775551102205\n"
     ]
    },
    {
     "ename": "NameError",
     "evalue": "name 'y_scores' is not defined",
     "output_type": "error",
     "traceback": [
      "\u001b[1;31m---------------------------------------------------------------------------\u001b[0m",
      "\u001b[1;31mNameError\u001b[0m                                 Traceback (most recent call last)",
      "\u001b[1;32m<ipython-input-28-275aeb83d839>\u001b[0m in \u001b[0;36m<module>\u001b[1;34m\u001b[0m\n\u001b[0;32m     18\u001b[0m \u001b[0mprint\u001b[0m\u001b[1;33m(\u001b[0m\u001b[1;34m\"Overall Recall:\"\u001b[0m\u001b[1;33m,\u001b[0m\u001b[0mrecall_score\u001b[0m\u001b[1;33m(\u001b[0m\u001b[0my_test\u001b[0m\u001b[1;33m,\u001b[0m \u001b[0mpredictions\u001b[0m\u001b[1;33m)\u001b[0m\u001b[1;33m)\u001b[0m\u001b[1;33m\u001b[0m\u001b[1;33m\u001b[0m\u001b[0m\n\u001b[0;32m     19\u001b[0m \u001b[1;33m\u001b[0m\u001b[0m\n\u001b[1;32m---> 20\u001b[1;33m \u001b[0mauc\u001b[0m \u001b[1;33m=\u001b[0m \u001b[0mroc_auc_score\u001b[0m\u001b[1;33m(\u001b[0m\u001b[0my_test\u001b[0m\u001b[1;33m,\u001b[0m\u001b[0my_scores\u001b[0m\u001b[1;33m[\u001b[0m\u001b[1;33m:\u001b[0m\u001b[1;33m,\u001b[0m\u001b[1;36m1\u001b[0m\u001b[1;33m]\u001b[0m\u001b[1;33m)\u001b[0m\u001b[1;33m\u001b[0m\u001b[1;33m\u001b[0m\u001b[0m\n\u001b[0m\u001b[0;32m     21\u001b[0m \u001b[0mprint\u001b[0m\u001b[1;33m(\u001b[0m\u001b[1;34m'\\nAUC: '\u001b[0m \u001b[1;33m+\u001b[0m \u001b[0mstr\u001b[0m\u001b[1;33m(\u001b[0m\u001b[0mauc\u001b[0m\u001b[1;33m)\u001b[0m\u001b[1;33m)\u001b[0m\u001b[1;33m\u001b[0m\u001b[1;33m\u001b[0m\u001b[0m\n\u001b[0;32m     22\u001b[0m \u001b[1;33m\u001b[0m\u001b[0m\n",
      "\u001b[1;31mNameError\u001b[0m: name 'y_scores' is not defined"
     ]
    }
   ],
   "source": [
    "# Use a different Classifier:\n",
    "\n",
    "from sklearn.ensemble import RandomForestClassifier\n",
    "\n",
    "# Create preprocessing and training pipeline\n",
    "pipeline = Pipeline(steps=[('preprocessor', preproc),\n",
    "                           ('regressor', RandomForestClassifier())])\n",
    "\n",
    "# fit the pipeline to train a random forest model on the training set\n",
    "model = pipeline.fit(X_train, (y_train))\n",
    "print (model)\n",
    "\n",
    "predictions = model.predict(X_test)\n",
    "cm = confusion_matrix(y_test, predictions)\n",
    "print ('Confusion Matrix:\\n',cm, '\\n')\n",
    "print('Accuracy:', accuracy_score(y_test, predictions))\n",
    "print(\"Overall Precision:\",precision_score(y_test, predictions))\n",
    "print(\"Overall Recall:\",recall_score(y_test, predictions))\n",
    "\n",
    "auc = roc_auc_score(y_test,y_scores[:,1])\n",
    "print('\\nAUC: ' + str(auc))\n",
    "\n",
    "# calculate ROC curve\n",
    "#y_scores = model.predict_proba(X_test)\n",
    "#fpr, tpr, thresholds = roc_curve(y_test, predictions[:,1])\n",
    "\n",
    "# plot ROC curve\n",
    "fig = plt.figure(figsize=(6, 6))\n",
    "# Plot the diagonal 50% line\n",
    "plt.plot([0, 1], [0, 1], 'k--')\n",
    "# Plot the FPR and TPR achieved by our model\n",
    "plt.plot(fpr, tpr)\n",
    "plt.xlabel('False Positive Rate')\n",
    "plt.ylabel('True Positive Rate')\n",
    "plt.title('ROC Curve')\n",
    "plt.show()"
   ]
  },
  {
   "cell_type": "markdown",
   "metadata": {},
   "source": [
    "# Interpret the Model:"
   ]
  },
  {
   "cell_type": "code",
   "execution_count": 46,
   "metadata": {},
   "outputs": [
    {
     "ename": "TypeError",
     "evalue": "list indices must be integers or slices, not str",
     "output_type": "error",
     "traceback": [
      "\u001b[1;31m---------------------------------------------------------------------------\u001b[0m",
      "\u001b[1;31mTypeError\u001b[0m                                 Traceback (most recent call last)",
      "\u001b[1;32m<ipython-input-46-56a1840741fa>\u001b[0m in \u001b[0;36m<module>\u001b[1;34m\u001b[0m\n\u001b[0;32m      3\u001b[0m \u001b[1;33m\u001b[0m\u001b[0m\n\u001b[0;32m      4\u001b[0m \u001b[0mnumeric_features_list\u001b[0m \u001b[1;33m=\u001b[0m \u001b[0mlist\u001b[0m\u001b[1;33m(\u001b[0m\u001b[0mnumeric_features\u001b[0m\u001b[1;33m)\u001b[0m\u001b[1;33m\u001b[0m\u001b[1;33m\u001b[0m\u001b[0m\n\u001b[1;32m----> 5\u001b[1;33m \u001b[0meli5\u001b[0m\u001b[1;33m.\u001b[0m\u001b[0mexplain_weights\u001b[0m\u001b[1;33m(\u001b[0m\u001b[0mpipeline\u001b[0m\u001b[1;33m.\u001b[0m\u001b[0msteps\u001b[0m\u001b[1;33m[\u001b[0m\u001b[1;34m'regressor'\u001b[0m\u001b[1;33m]\u001b[0m\u001b[1;33m,\u001b[0m \u001b[0mtop\u001b[0m\u001b[1;33m=\u001b[0m\u001b[1;36m50\u001b[0m\u001b[1;33m,\u001b[0m \u001b[0mfeature_names\u001b[0m\u001b[1;33m=\u001b[0m\u001b[0mnumeric_features_list\u001b[0m\u001b[1;33m)\u001b[0m\u001b[1;33m\u001b[0m\u001b[1;33m\u001b[0m\u001b[0m\n\u001b[0m",
      "\u001b[1;31mTypeError\u001b[0m: list indices must be integers or slices, not str"
     ]
    }
   ],
   "source": [
    "# Explain predictions using ELI5\n",
    "import eli5\n",
    "\n",
    "numeric_features_list = list(numeric_features)\n",
    "eli5.explain_weights(pipeline.steps['regressor'], top=50, feature_names=numeric_features_list)"
   ]
  },
  {
   "cell_type": "code",
   "execution_count": 47,
   "metadata": {},
   "outputs": [
    {
     "ename": "TypeError",
     "evalue": "show_prediction() missing 2 required positional arguments: 'estimator' and 'doc'",
     "output_type": "error",
     "traceback": [
      "\u001b[1;31m---------------------------------------------------------------------------\u001b[0m",
      "\u001b[1;31mTypeError\u001b[0m                                 Traceback (most recent call last)",
      "\u001b[1;32m<ipython-input-47-e3adba08a265>\u001b[0m in \u001b[0;36m<module>\u001b[1;34m\u001b[0m\n\u001b[0;32m      1\u001b[0m \u001b[1;32mimport\u001b[0m \u001b[0meli5\u001b[0m\u001b[1;33m\u001b[0m\u001b[1;33m\u001b[0m\u001b[0m\n\u001b[1;32m----> 2\u001b[1;33m \u001b[0mpr8\u001b[0m \u001b[1;33m=\u001b[0m \u001b[0meli5\u001b[0m\u001b[1;33m.\u001b[0m\u001b[0mshow_prediction\u001b[0m\u001b[1;33m(\u001b[0m\u001b[1;33m)\u001b[0m\u001b[1;33m\u001b[0m\u001b[1;33m\u001b[0m\u001b[0m\n\u001b[0m",
      "\u001b[1;31mTypeError\u001b[0m: show_prediction() missing 2 required positional arguments: 'estimator' and 'doc'"
     ]
    }
   ],
   "source": [
    "import eli5\n",
    "pr8 = eli5.show_prediction()"
   ]
  },
  {
   "cell_type": "code",
   "execution_count": null,
   "metadata": {},
   "outputs": [],
   "source": [
    "importance = model.feature_importances_\n",
    "for i,v in enumerate(importance):\n",
    "\tprint('Feature: %0d, Score: %.5f' % (i,v))"
   ]
  },
  {
   "cell_type": "markdown",
   "metadata": {},
   "source": [
    "# Save the Model:"
   ]
  },
  {
   "cell_type": "code",
   "execution_count": 162,
   "metadata": {},
   "outputs": [
    {
     "data": {
      "text/plain": [
       "['C:\\\\Users\\\\Ryan\\\\JupyterNotebooks-Anaconda\\\\data\\\\diabetesdata_model.pkl']"
      ]
     },
     "execution_count": 162,
     "metadata": {},
     "output_type": "execute_result"
    }
   ],
   "source": [
    "# Save the model to predict labels for new data:\n",
    "\n",
    "import joblib\n",
    "\n",
    "# Save the model as a pickle file\n",
    "filename = r'C:\\Users\\Ryan\\JupyterNotebooks-Anaconda\\data\\diabetesdata_model.pkl'\n",
    "joblib.dump(model, filename)"
   ]
  },
  {
   "cell_type": "code",
   "execution_count": null,
   "metadata": {},
   "outputs": [],
   "source": [
    "# When needed, reload the model (e.g. when new data is available)\n",
    "\n",
    "# Load the model from the file\n",
    "#model = joblib.load(filename)"
   ]
  },
  {
   "cell_type": "markdown",
   "metadata": {},
   "source": []
  },
  {
   "cell_type": "markdown",
   "metadata": {},
   "source": [
    "*************** extra *****************"
   ]
  },
  {
   "cell_type": "code",
   "execution_count": 30,
   "metadata": {
    "scrolled": true
   },
   "outputs": [
    {
     "data": {
      "text/plain": [
       "<matplotlib.axes._subplots.AxesSubplot at 0x2ebf1fe2d00>"
      ]
     },
     "execution_count": 30,
     "metadata": {},
     "output_type": "execute_result"
    },
    {
     "data": {
      "image/png": "[encoded data removed]",
      "text/plain": [
       "<Figure size 432x288 with 1 Axes>"
      ]
     },
     "metadata": {
      "needs_background": "light"
     },
     "output_type": "display_data"
    }
   ],
   "source": [
    "df.boxplot(column='PlasmaGlucose', by='Diabetic')"
   ]
  },
  {
   "cell_type": "code",
   "execution_count": 67,
   "metadata": {},
   "outputs": [
    {
     "name": "stdout",
     "output_type": "stream",
     "text": [
      "Average Plasma Glucose: 107.86 (A.U.)\n"
     ]
    },
    {
     "data": {
      "image/png": "[encoded data removed]",
      "text/plain": [
       "<Figure size 360x288 with 2 Axes>"
      ]
     },
     "metadata": {
      "needs_background": "light"
     },
     "output_type": "display_data"
    }
   ],
   "source": [
    "f, (ax1, ax2) = plt.subplots(2, 1, figsize = (5,4))\n",
    "\n",
    "#ax1.boxplot(['PlasmaGlucose'], 'Diabetic')\n",
    "\n",
    "ax1.hist(df['PlasmaGlucose'])\n",
    "ax1.set_title('Plasma Glucose distrubution')\n",
    "ax1.set_xlim(0, 200)\n",
    "ax1.set_xlabel('Plasma Glucose Level (A.U.)')\n",
    "ax1.set_ylabel('Number of patients')\n",
    "\n",
    "ax2.boxplot(df['PlasmaGlucose'], vert=False)\n",
    "ax2.set_xlim(0, 200)\n",
    "ax2.set_xlabel('Plasma Glucose Level (A.U.)')\n",
    "\n",
    "meanPG = df['PlasmaGlucose'].mean()\n",
    "print('Average Plasma Glucose: {:.2f} (A.U.)'.format(meanPG))"
   ]
  },
  {
   "cell_type": "code",
   "execution_count": null,
   "metadata": {},
   "outputs": [],
   "source": []
  }
 ],
 "metadata": {
  "kernelspec": {
   "display_name": "Python 3",
   "language": "python",
   "name": "python3"
  },
  "language_info": {
   "codemirror_mode": {
    "name": "ipython",
    "version": 3
   },
   "file_extension": ".py",
   "mimetype": "text/x-python",
   "name": "python",
   "nbconvert_exporter": "python",
   "pygments_lexer": "ipython3",
   "version": "3.8.3"
  }
 },
 "nbformat": 4,
 "nbformat_minor": 4
}
